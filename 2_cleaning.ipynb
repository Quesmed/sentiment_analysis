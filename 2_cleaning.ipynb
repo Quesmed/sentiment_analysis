{
 "cells": [
  {
   "cell_type": "code",
   "execution_count": 1,
   "metadata": {},
   "outputs": [
    {
     "data": {
      "text/html": [
       "<div>\n",
       "<style scoped>\n",
       "    .dataframe tbody tr th:only-of-type {\n",
       "        vertical-align: middle;\n",
       "    }\n",
       "\n",
       "    .dataframe tbody tr th {\n",
       "        vertical-align: top;\n",
       "    }\n",
       "\n",
       "    .dataframe thead th {\n",
       "        text-align: right;\n",
       "    }\n",
       "</style>\n",
       "<table border=\"1\" class=\"dataframe\">\n",
       "  <thead>\n",
       "    <tr style=\"text-align: right;\">\n",
       "      <th></th>\n",
       "      <th>id</th>\n",
       "      <th>createdAt</th>\n",
       "      <th>userId</th>\n",
       "      <th>userCreatedAt</th>\n",
       "      <th>classYear</th>\n",
       "      <th>universityId</th>\n",
       "      <th>country</th>\n",
       "      <th>universityName</th>\n",
       "      <th>parentId</th>\n",
       "      <th>questionId</th>\n",
       "      <th>comment</th>\n",
       "      <th>review</th>\n",
       "      <th>chapter_explanation_update</th>\n",
       "      <th>question_update</th>\n",
       "      <th>question_explanation_update</th>\n",
       "      <th>qc_explanation_update</th>\n",
       "    </tr>\n",
       "  </thead>\n",
       "  <tbody>\n",
       "    <tr>\n",
       "      <th>13844</th>\n",
       "      <td>18261</td>\n",
       "      <td>2023-02-14 13:52:13.917612+00:00</td>\n",
       "      <td>14961</td>\n",
       "      <td>2021-11-28 10:27:36.383000+00:00</td>\n",
       "      <td>Year 4</td>\n",
       "      <td>9364</td>\n",
       "      <td>United Kingdom</td>\n",
       "      <td>Barts and The London School of Medicine and De...</td>\n",
       "      <td>NaN</td>\n",
       "      <td>2840</td>\n",
       "      <td>Perhaps consider rewording the question to ask...</td>\n",
       "      <td>False</td>\n",
       "      <td>None</td>\n",
       "      <td>None</td>\n",
       "      <td>None</td>\n",
       "      <td>None</td>\n",
       "    </tr>\n",
       "    <tr>\n",
       "      <th>15251</th>\n",
       "      <td>19878</td>\n",
       "      <td>2023-03-11 22:59:14.753742+00:00</td>\n",
       "      <td>13060</td>\n",
       "      <td>2021-10-14 18:03:22.569000+00:00</td>\n",
       "      <td>Year 4</td>\n",
       "      <td>9364</td>\n",
       "      <td>United Kingdom</td>\n",
       "      <td>Barts and The London School of Medicine and De...</td>\n",
       "      <td>NaN</td>\n",
       "      <td>11914</td>\n",
       "      <td>What is this PA finals?</td>\n",
       "      <td>False</td>\n",
       "      <td>None</td>\n",
       "      <td>None</td>\n",
       "      <td>None</td>\n",
       "      <td>None</td>\n",
       "    </tr>\n",
       "    <tr>\n",
       "      <th>22624</th>\n",
       "      <td>28202</td>\n",
       "      <td>2023-06-08 17:11:02.892703+00:00</td>\n",
       "      <td>1786</td>\n",
       "      <td>2019-07-23 12:43:32.106000+00:00</td>\n",
       "      <td>Year 5</td>\n",
       "      <td>2620</td>\n",
       "      <td>United Kingdom</td>\n",
       "      <td>University College London (UCL)</td>\n",
       "      <td>NaN</td>\n",
       "      <td>8746</td>\n",
       "      <td>good question thanks quesmed you shills</td>\n",
       "      <td>False</td>\n",
       "      <td>None</td>\n",
       "      <td>None</td>\n",
       "      <td>None</td>\n",
       "      <td>None</td>\n",
       "    </tr>\n",
       "  </tbody>\n",
       "</table>\n",
       "</div>"
      ],
      "text/plain": [
       "          id                        createdAt  userId  \\\n",
       "13844  18261 2023-02-14 13:52:13.917612+00:00   14961   \n",
       "15251  19878 2023-03-11 22:59:14.753742+00:00   13060   \n",
       "22624  28202 2023-06-08 17:11:02.892703+00:00    1786   \n",
       "\n",
       "                         userCreatedAt classYear  universityId  \\\n",
       "13844 2021-11-28 10:27:36.383000+00:00    Year 4          9364   \n",
       "15251 2021-10-14 18:03:22.569000+00:00    Year 4          9364   \n",
       "22624 2019-07-23 12:43:32.106000+00:00    Year 5          2620   \n",
       "\n",
       "              country                                     universityName  \\\n",
       "13844  United Kingdom  Barts and The London School of Medicine and De...   \n",
       "15251  United Kingdom  Barts and The London School of Medicine and De...   \n",
       "22624  United Kingdom                    University College London (UCL)   \n",
       "\n",
       "       parentId  questionId  \\\n",
       "13844       NaN        2840   \n",
       "15251       NaN       11914   \n",
       "22624       NaN        8746   \n",
       "\n",
       "                                                 comment review  \\\n",
       "13844  Perhaps consider rewording the question to ask...  False   \n",
       "15251                            What is this PA finals?  False   \n",
       "22624            good question thanks quesmed you shills  False   \n",
       "\n",
       "      chapter_explanation_update question_update question_explanation_update  \\\n",
       "13844                       None            None                        None   \n",
       "15251                       None            None                        None   \n",
       "22624                       None            None                        None   \n",
       "\n",
       "      qc_explanation_update  \n",
       "13844                  None  \n",
       "15251                  None  \n",
       "22624                  None  "
      ]
     },
     "execution_count": 1,
     "metadata": {},
     "output_type": "execute_result"
    }
   ],
   "source": [
    "import pandas as pd\n",
    "\n",
    "file_path = \"data/1comments.h5\"\n",
    "df = pd.read_hdf(file_path, key='df')\n",
    "df.sample(3)"
   ]
  },
  {
   "attachments": {},
   "cell_type": "markdown",
   "metadata": {},
   "source": [
    "## Processing DataFrame"
   ]
  },
  {
   "cell_type": "code",
   "execution_count": 2,
   "metadata": {},
   "outputs": [
    {
     "data": {
      "text/plain": [
       "'Date range of comments: 2021-03-25 11:22:56.133000+00:00 to 2023-07-26 13:22:58.514174+00:00'"
      ]
     },
     "execution_count": 2,
     "metadata": {},
     "output_type": "execute_result"
    }
   ],
   "source": [
    "f\"Date range of comments: {df.iat[0, 1]} to {df.iat[-1, 1]}\""
   ]
  },
  {
   "cell_type": "markdown",
   "metadata": {},
   "source": [
    "No cleaning needed for now, maybe it would be worth filtering the comments with a low number of tokens"
   ]
  }
 ],
 "metadata": {
  "kernelspec": {
   "display_name": "fusion_analysis-xH46poxW",
   "language": "python",
   "name": "python3"
  },
  "language_info": {
   "codemirror_mode": {
    "name": "ipython",
    "version": 3
   },
   "file_extension": ".py",
   "mimetype": "text/x-python",
   "name": "python",
   "nbconvert_exporter": "python",
   "pygments_lexer": "ipython3",
   "version": "3.11.4"
  },
  "orig_nbformat": 4
 },
 "nbformat": 4,
 "nbformat_minor": 2
}
