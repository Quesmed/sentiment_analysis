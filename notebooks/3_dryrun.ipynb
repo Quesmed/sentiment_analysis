{
 "cells": [
  {
   "cell_type": "code",
   "execution_count": 7,
   "metadata": {},
   "outputs": [],
   "source": [
    "import os\n",
    "import matplotlib.pyplot as plt\n",
    "import seaborn as sns\n",
    "from transformers import AutoModelForSequenceClassification, AutoTokenizer, AutoConfig\n",
    "import torch\n",
    "\n",
    "sns.set_theme()\n",
    "\n",
    "os.environ['TOKENIZERS_PARALLELISM'] = 'true'\n",
    "\n",
    "device = torch.device(\"mps\" if torch.backends.mps.is_available() else \"cpu\")\n",
    "\n",
    "\n",
    "def init_model(model_path: str):\n",
    "    tokenizer = AutoTokenizer.from_pretrained(model_path, use_fast=True)\n",
    "    config = AutoConfig.from_pretrained(model_path)\n",
    "    model = AutoModelForSequenceClassification.from_pretrained(model_path).to(device)\n",
    "\n",
    "    return (tokenizer, config, model)"
   ]
  },
  {
   "cell_type": "code",
   "execution_count": 8,
   "metadata": {},
   "outputs": [
    {
     "data": {
      "text/html": [
       "<div>\n",
       "<style scoped>\n",
       "    .dataframe tbody tr th:only-of-type {\n",
       "        vertical-align: middle;\n",
       "    }\n",
       "\n",
       "    .dataframe tbody tr th {\n",
       "        vertical-align: top;\n",
       "    }\n",
       "\n",
       "    .dataframe thead th {\n",
       "        text-align: right;\n",
       "    }\n",
       "</style>\n",
       "<table border=\"1\" class=\"dataframe\">\n",
       "  <thead>\n",
       "    <tr style=\"text-align: right;\">\n",
       "      <th></th>\n",
       "      <th>id</th>\n",
       "      <th>createdAt</th>\n",
       "      <th>userId</th>\n",
       "      <th>userCreatedAt</th>\n",
       "      <th>classYear</th>\n",
       "      <th>universityId</th>\n",
       "      <th>country</th>\n",
       "      <th>universityName</th>\n",
       "      <th>parentId</th>\n",
       "      <th>questionId</th>\n",
       "      <th>comment</th>\n",
       "      <th>review</th>\n",
       "      <th>chapter_explanation_update</th>\n",
       "      <th>question_update</th>\n",
       "      <th>question_explanation_update</th>\n",
       "      <th>qc_explanation_update</th>\n",
       "    </tr>\n",
       "  </thead>\n",
       "  <tbody>\n",
       "    <tr>\n",
       "      <th>18184</th>\n",
       "      <td>23224</td>\n",
       "      <td>2023-05-02 15:30:00.175530+00:00</td>\n",
       "      <td>18597</td>\n",
       "      <td>2022-03-12 17:12:53.159916+00:00</td>\n",
       "      <td>Year 3</td>\n",
       "      <td>2697</td>\n",
       "      <td>United Kingdom</td>\n",
       "      <td>St. George's University (SGUL)</td>\n",
       "      <td>NaN</td>\n",
       "      <td>4914</td>\n",
       "      <td>In practise of course it's up to the patient a...</td>\n",
       "      <td>False</td>\n",
       "      <td>None</td>\n",
       "      <td>None</td>\n",
       "      <td>None</td>\n",
       "      <td>None</td>\n",
       "    </tr>\n",
       "    <tr>\n",
       "      <th>7225</th>\n",
       "      <td>10294</td>\n",
       "      <td>2022-05-01 13:42:13.508654+00:00</td>\n",
       "      <td>16877</td>\n",
       "      <td>2022-01-28 14:40:48.931000+00:00</td>\n",
       "      <td>Year 3</td>\n",
       "      <td>2558</td>\n",
       "      <td>United Kingdom</td>\n",
       "      <td>Imperial College School of Medicine</td>\n",
       "      <td>NaN</td>\n",
       "      <td>5611</td>\n",
       "      <td>pain</td>\n",
       "      <td>True</td>\n",
       "      <td>None</td>\n",
       "      <td>None</td>\n",
       "      <td>None</td>\n",
       "      <td>None</td>\n",
       "    </tr>\n",
       "    <tr>\n",
       "      <th>2328</th>\n",
       "      <td>3625</td>\n",
       "      <td>2021-06-17 15:29:59.457000+00:00</td>\n",
       "      <td>8217</td>\n",
       "      <td>2021-05-06 18:32:11.763000+00:00</td>\n",
       "      <td>Year 3</td>\n",
       "      <td>2688</td>\n",
       "      <td>United Kingdom</td>\n",
       "      <td>University of Warwick</td>\n",
       "      <td>2621.0</td>\n",
       "      <td>4048</td>\n",
       "      <td>should have spent more time on trivago</td>\n",
       "      <td>False</td>\n",
       "      <td>None</td>\n",
       "      <td>None</td>\n",
       "      <td>None</td>\n",
       "      <td>None</td>\n",
       "    </tr>\n",
       "  </tbody>\n",
       "</table>\n",
       "</div>"
      ],
      "text/plain": [
       "          id                        createdAt  userId  \\\n",
       "18184  23224 2023-05-02 15:30:00.175530+00:00   18597   \n",
       "7225   10294 2022-05-01 13:42:13.508654+00:00   16877   \n",
       "2328    3625 2021-06-17 15:29:59.457000+00:00    8217   \n",
       "\n",
       "                         userCreatedAt classYear  universityId  \\\n",
       "18184 2022-03-12 17:12:53.159916+00:00    Year 3          2697   \n",
       "7225  2022-01-28 14:40:48.931000+00:00    Year 3          2558   \n",
       "2328  2021-05-06 18:32:11.763000+00:00    Year 3          2688   \n",
       "\n",
       "              country                       universityName  parentId  \\\n",
       "18184  United Kingdom       St. George's University (SGUL)       NaN   \n",
       "7225   United Kingdom  Imperial College School of Medicine       NaN   \n",
       "2328   United Kingdom                University of Warwick    2621.0   \n",
       "\n",
       "       questionId                                            comment review  \\\n",
       "18184        4914  In practise of course it's up to the patient a...  False   \n",
       "7225         5611                                               pain   True   \n",
       "2328         4048             should have spent more time on trivago  False   \n",
       "\n",
       "      chapter_explanation_update question_update question_explanation_update  \\\n",
       "18184                       None            None                        None   \n",
       "7225                        None            None                        None   \n",
       "2328                        None            None                        None   \n",
       "\n",
       "      qc_explanation_update  \n",
       "18184                  None  \n",
       "7225                   None  \n",
       "2328                   None  "
      ]
     },
     "execution_count": 8,
     "metadata": {},
     "output_type": "execute_result"
    }
   ],
   "source": [
    "import pandas as pd\n",
    "\n",
    "file_path = \"../data/1comments.h5\"\n",
    "df = pd.read_hdf(file_path, key='df')\n",
    "df.sample(3)"
   ]
  },
  {
   "cell_type": "code",
   "execution_count": 43,
   "metadata": {},
   "outputs": [],
   "source": [
    "from datasets import Dataset\n",
    "\n",
    "def dataloader(ds: Dataset):\n",
    "  for item in ds:\n",
    "    yield item['text']\n",
    "\n",
    "ds = Dataset.from_dict({'text': df['comment']})"
   ]
  },
  {
   "attachments": {},
   "cell_type": "markdown",
   "metadata": {},
   "source": [
    "# Tone analysis\n",
    "\n",
    "Checking the tone of submissions"
   ]
  },
  {
   "cell_type": "code",
   "execution_count": 11,
   "metadata": {},
   "outputs": [],
   "source": [
    "tone_ckpt = \"cardiffnlp/twitter-roberta-base-sentiment-latest\""
   ]
  },
  {
   "cell_type": "code",
   "execution_count": 12,
   "metadata": {},
   "outputs": [
    {
     "name": "stderr",
     "output_type": "stream",
     "text": [
      "Some weights of the model checkpoint at cardiffnlp/twitter-roberta-base-sentiment-latest were not used when initializing RobertaForSequenceClassification: ['roberta.pooler.dense.weight', 'roberta.pooler.dense.bias']\n",
      "- This IS expected if you are initializing RobertaForSequenceClassification from the checkpoint of a model trained on another task or with another architecture (e.g. initializing a BertForSequenceClassification model from a BertForPreTraining model).\n",
      "- This IS NOT expected if you are initializing RobertaForSequenceClassification from the checkpoint of a model that you expect to be exactly identical (initializing a BertForSequenceClassification model from a BertForSequenceClassification model).\n"
     ]
    }
   ],
   "source": [
    "tone_tokenizer, tone_config, tone_model = init_model(tone_ckpt)\n"
   ]
  },
  {
   "cell_type": "code",
   "execution_count": 26,
   "metadata": {},
   "outputs": [
    {
     "data": {
      "text/plain": [
       "[{'label': 'negative', 'score': 0.7387604713439941},\n",
       " {'label': 'neutral', 'score': 0.2311086803674698},\n",
       " {'label': 'positive', 'score': 0.03013083152472973}]"
      ]
     },
     "execution_count": 26,
     "metadata": {},
     "output_type": "execute_result"
    }
   ],
   "source": [
    "from transformers import pipeline\n",
    "from tqdm import tqdm\n",
    "\n",
    "tone_pipe = pipeline(\"sentiment-analysis\", \n",
    "  model=tone_model, \n",
    "  device=device,\n",
    "  tokenizer=tone_tokenizer,\n",
    "  max_length=512, \n",
    "  truncation=True\n",
    ")\n",
    "\n",
    "tone_labels = ['neutral', 'negative', 'positive']\n",
    "\n",
    "tone_pipe('Cases of Covid are rising!', top_k=len(tone_labels), batch_size=64)"
   ]
  },
  {
   "cell_type": "code",
   "execution_count": null,
   "metadata": {},
   "outputs": [],
   "source": [
    "res_emotion = []\n",
    "for res in tqdm(tone_pipe(dataloader(ds), top_k=len(tone_labels), batch_size=64), total=ds.num_rows):\n",
    "  res_sorted = sorted(res, key=lambda x: x['label'])\n",
    "  res_emotion.append([x['score'] for x in res_sorted])\n",
    "\n",
    "df = df.join(pd.DataFrame(res_emotion, columns=tone_labels))"
   ]
  },
  {
   "cell_type": "code",
   "execution_count": null,
   "metadata": {},
   "outputs": [],
   "source": [
    "df['tone'] = df[tone_labels].idxmax(axis=1)"
   ]
  },
  {
   "cell_type": "code",
   "execution_count": 17,
   "metadata": {},
   "outputs": [],
   "source": [
    "df.to_hdf('../data/2comments.h5', key='df', mode='w')\n",
    "# df = pd.read_hdf('../data/2comments.h5', key='df')"
   ]
  },
  {
   "cell_type": "code",
   "execution_count": 21,
   "metadata": {},
   "outputs": [
    {
     "data": {
      "image/png": "[encoded data removed]",
      "text/plain": [
       "<Figure size 640x480 with 1 Axes>"
      ]
     },
     "metadata": {},
     "output_type": "display_data"
    }
   ],
   "source": [
    "fig, ax = plt.subplots()\n",
    "ax = df['tone'].value_counts().plot(kind='bar')\n",
    "plt.xticks(rotation=0, ha='center')\n",
    "plt.show()"
   ]
  },
  {
   "attachments": {},
   "cell_type": "markdown",
   "metadata": {},
   "source": [
    "# Emotion Analysis\n",
    "\n",
    "Checking the emotion of submissions"
   ]
  },
  {
   "cell_type": "code",
   "execution_count": 36,
   "metadata": {},
   "outputs": [],
   "source": [
    "emotion_chkp = \"bhadresh-savani/distilbert-base-uncased-emotion\"\n",
    "emotion_tokenizer, emotion_config, emotion_model = init_model(emotion_chkp)\n"
   ]
  },
  {
   "cell_type": "code",
   "execution_count": 41,
   "metadata": {},
   "outputs": [
    {
     "name": "stderr",
     "output_type": "stream",
     "text": [
      "Failed to determine 'entailment' label id from the label2id mapping in the model config. Setting to -1. Define a descriptive label2id mapping in the model config to ensure correct outputs.\n"
     ]
    },
    {
     "data": {
      "text/plain": [
       "{'sequence': 'Cases of Covid are rising!',\n",
       " 'labels': ['surprise', 'joy', 'fear', 'love', 'anger', 'sadness'],\n",
       " 'scores': [0.8994591236114502,\n",
       "  0.03682132437825203,\n",
       "  0.02006826549768448,\n",
       "  0.017188696190714836,\n",
       "  0.015889901667833328,\n",
       "  0.010572700761258602]}"
      ]
     },
     "execution_count": 41,
     "metadata": {},
     "output_type": "execute_result"
    }
   ],
   "source": [
    "emotion_pipe = pipeline(\"zero-shot-classification\", \n",
    "  model=emotion_model,\n",
    "  tokenizer=emotion_tokenizer,\n",
    "  device=device,\n",
    "  max_length=512,\n",
    "  truncation=True\n",
    ")\n",
    "\n",
    "emotion_labels = ['sadness', 'joy', 'love', 'anger', 'fear', 'surprise']\n",
    "\n",
    "emotion_pipe('Cases of Covid are rising!', \n",
    "             top_k=len(emotion_labels), \n",
    "             candidate_labels=emotion_labels\n",
    "             )"
   ]
  },
  {
   "cell_type": "code",
   "execution_count": null,
   "metadata": {},
   "outputs": [],
   "source": [
    "res_emotion = []\n",
    "for res in tqdm(emotion_pipe(dataloader(ds), top_k=len(emotion_labels), batch_size=64, candidate_labels=emotion_labels), total=ds.num_rows):\n",
    "  res_list = []\n",
    "  for label, score in zip(res['labels'], res['scores']):\n",
    "    res_list.append({'label': label, 'score': score})\n",
    "  res_sorted = sorted(res_list, key=lambda x: x['label'])\n",
    "  res_emotion.append([x['score'] for x in res_sorted])\n",
    "\n",
    "df = df.join(pd.DataFrame(res_emotion, columns=emotion_labels))"
   ]
  },
  {
   "cell_type": "code",
   "execution_count": 35,
   "metadata": {},
   "outputs": [],
   "source": [
    "df['emotion'] = df[emotion_labels].idxmax(axis=1)"
   ]
  },
  {
   "cell_type": "code",
   "execution_count": 56,
   "metadata": {},
   "outputs": [],
   "source": [
    "df.to_hdf('../data/3comments.h5', key='df', mode='w')\n",
    "# df = pd.read_hdf('../data/3comments.h5', key='df')"
   ]
  },
  {
   "cell_type": "code",
   "execution_count": 57,
   "metadata": {},
   "outputs": [
    {
     "data": {
      "image/png": "[encoded data removed]",
      "text/plain": [
       "<Figure size 640x480 with 1 Axes>"
      ]
     },
     "metadata": {},
     "output_type": "display_data"
    }
   ],
   "source": [
    "fig, ax = plt.subplots()\n",
    "ax = df['emotion'].value_counts().plot(kind='bar')\n",
    "\n",
    "plt.show()"
   ]
  },
  {
   "attachments": {},
   "cell_type": "markdown",
   "metadata": {},
   "source": [
    "# Zero-shot classification\n",
    "\n",
    "Classification of submissions based on certain categories"
   ]
  },
  {
   "cell_type": "code",
   "execution_count": 64,
   "metadata": {},
   "outputs": [
    {
     "name": "stderr",
     "output_type": "stream",
     "text": [
      "Some weights of BartForSequenceClassification were not initialized from the model checkpoint at facebook/bart-large-mnli and are newly initialized because the shapes did not match:\n",
      "- classification_head.out_proj.bias: found shape torch.Size([3]) in the checkpoint and torch.Size([5]) in the model instantiated\n",
      "- classification_head.out_proj.weight: found shape torch.Size([3, 1024]) in the checkpoint and torch.Size([5, 1024]) in the model instantiated\n",
      "You should probably TRAIN this model on a down-stream task to be able to use it for predictions and inference.\n",
      "Failed to determine 'entailment' label id from the label2id mapping in the model config. Setting to -1. Define a descriptive label2id mapping in the model config to ensure correct outputs.\n"
     ]
    },
    {
     "data": {
      "text/plain": [
       "{'educational': 0.2142215371131897,\n",
       " 'giving feedback': 0.1849270462989807,\n",
       " 'asking a question': 0.27699366211891174,\n",
       " 'insulting': 0.16431444883346558,\n",
       " 'supporting': 0.15954318642616272}"
      ]
     },
     "execution_count": 64,
     "metadata": {},
     "output_type": "execute_result"
    }
   ],
   "source": [
    "from transformers import AutoModelForSequenceClassification\n",
    "\n",
    "theme_chkp = \"facebook/bart-large-mnli\"\n",
    "theme_tokenizer, _, _ = init_model(theme_chkp)\n",
    "\n",
    "theme_labels = ['educational', 'giving feedback', 'asking a question', 'insulting', 'supporting']\n",
    "\n",
    "id2label = {i: k for i, k in enumerate(theme_labels)}\n",
    "label2id = {k: i for i, k in enumerate(theme_labels)}\n",
    "\n",
    "theme_model = AutoModelForSequenceClassification.from_pretrained(theme_chkp,\n",
    "  num_labels=len(theme_labels),\n",
    "  id2label=id2label,\n",
    "  label2id=label2id,\n",
    "  ignore_mismatched_sizes=True\n",
    ")\n",
    "\n",
    "theme_pipe = pipeline(\"zero-shot-classification\", \n",
    "  model=theme_model,\n",
    "  tokenizer=theme_tokenizer,\n",
    "  device=device,\n",
    "  max_length=512,\n",
    "  truncation=True\n",
    ")\n",
    "\n",
    "def theme_analysis(text: str, multi_label=False):\n",
    "  res = theme_pipe(text, theme_labels, multi_label=multi_label)\n",
    "\n",
    "  output = {k: 0.0 for k in theme_labels}\n",
    "\n",
    "  for k, score in zip(res['labels'], res['scores']):\n",
    "      output[k] = score\n",
    "  \n",
    "  return output\n",
    "\n",
    "theme_analysis(\"Covid cases are increasing fast!\")"
   ]
  },
  {
   "cell_type": "code",
   "execution_count": 40,
   "metadata": {},
   "outputs": [],
   "source": [
    "for k in theme_labels:\n",
    "    df[k] = 0.0"
   ]
  },
  {
   "cell_type": "code",
   "execution_count": 41,
   "metadata": {},
   "outputs": [
    {
     "name": "stderr",
     "output_type": "stream",
     "text": [
      "100%|██████████| 22514/22514 [5:54:48<00:00,  1.06it/s]    \n"
     ]
    }
   ],
   "source": [
    "for id in tqdm(df.index):\n",
    "    selftext = df.at[id, 'comment']\n",
    "    if len(selftext) == 0:\n",
    "        continue\n",
    "    output = theme_analysis(selftext)\n",
    "    for k in theme_labels:\n",
    "        df.at[id, k] = output[k]"
   ]
  },
  {
   "cell_type": "code",
   "execution_count": 42,
   "metadata": {},
   "outputs": [],
   "source": [
    "df['theme'] = df[theme_labels].idxmax(axis=1)"
   ]
  },
  {
   "cell_type": "code",
   "execution_count": 65,
   "metadata": {},
   "outputs": [],
   "source": [
    "df.to_hdf('../data/4comments.h5', key='df', mode='w')\n",
    "# df = pd.read_hdf('../data/4comments.h5', key='df')"
   ]
  },
  {
   "cell_type": "code",
   "execution_count": 66,
   "metadata": {},
   "outputs": [
    {
     "data": {
      "image/png": "[encoded data removed]",
      "text/plain": [
       "<Figure size 640x480 with 1 Axes>"
      ]
     },
     "metadata": {},
     "output_type": "display_data"
    }
   ],
   "source": [
    "fig, ax = plt.subplots()\n",
    "ax = df['theme'].value_counts().plot(kind='bar')\n",
    "\n",
    "plt.show()"
   ]
  },
  {
   "cell_type": "code",
   "execution_count": null,
   "metadata": {},
   "outputs": [],
   "source": []
  }
 ],
 "metadata": {
  "kernelspec": {
   "display_name": "fusion_analysis-xH46poxW",
   "language": "python",
   "name": "python3"
  },
  "language_info": {
   "codemirror_mode": {
    "name": "ipython",
    "version": 3
   },
   "file_extension": ".py",
   "mimetype": "text/x-python",
   "name": "python",
   "nbconvert_exporter": "python",
   "pygments_lexer": "ipython3",
   "version": "3.11.6"
  },
  "orig_nbformat": 4
 },
 "nbformat": 4,
 "nbformat_minor": 2
}
