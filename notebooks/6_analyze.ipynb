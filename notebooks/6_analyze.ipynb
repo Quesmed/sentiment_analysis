{
 "cells": [
  {
   "cell_type": "code",
   "execution_count": 17,
   "metadata": {},
   "outputs": [],
   "source": [
    "import os\n",
    "import matplotlib.pyplot as plt\n",
    "import seaborn as sns\n",
    "from transformers import AutoModelForSequenceClassification, AutoTokenizer, AutoConfig\n",
    "import torch\n",
    "\n",
    "sns.set_theme()\n",
    "\n",
    "os.environ['TOKENIZERS_PARALLELISM'] = 'true'\n",
    "\n",
    "device = torch.device(\"mps\" if torch.backends.mps.is_available() else \"cpu\")\n",
    "\n",
    "\n",
    "def init_model(model_path: str):\n",
    "    tokenizer = AutoTokenizer.from_pretrained(model_path, use_fast=True)\n",
    "    config = AutoConfig.from_pretrained(model_path)\n",
    "    model = AutoModelForSequenceClassification.from_pretrained(model_path).to(device)\n",
    "\n",
    "    return (tokenizer, config, model)"
   ]
  },
  {
   "cell_type": "code",
   "execution_count": 18,
   "metadata": {},
   "outputs": [
    {
     "data": {
      "text/html": [
       "<div>\n",
       "<style scoped>\n",
       "    .dataframe tbody tr th:only-of-type {\n",
       "        vertical-align: middle;\n",
       "    }\n",
       "\n",
       "    .dataframe tbody tr th {\n",
       "        vertical-align: top;\n",
       "    }\n",
       "\n",
       "    .dataframe thead th {\n",
       "        text-align: right;\n",
       "    }\n",
       "</style>\n",
       "<table border=\"1\" class=\"dataframe\">\n",
       "  <thead>\n",
       "    <tr style=\"text-align: right;\">\n",
       "      <th></th>\n",
       "      <th>id</th>\n",
       "      <th>createdAt</th>\n",
       "      <th>userId</th>\n",
       "      <th>userCreatedAt</th>\n",
       "      <th>classYear</th>\n",
       "      <th>universityId</th>\n",
       "      <th>country</th>\n",
       "      <th>universityName</th>\n",
       "      <th>parentId</th>\n",
       "      <th>questionId</th>\n",
       "      <th>comment</th>\n",
       "      <th>review</th>\n",
       "      <th>chapter_explanation_update</th>\n",
       "      <th>question_update</th>\n",
       "      <th>question_explanation_update</th>\n",
       "      <th>qc_explanation_update</th>\n",
       "    </tr>\n",
       "  </thead>\n",
       "  <tbody>\n",
       "    <tr>\n",
       "      <th>4036</th>\n",
       "      <td>6076</td>\n",
       "      <td>2022-01-04 09:46:39.293000+00:00</td>\n",
       "      <td>7166</td>\n",
       "      <td>2021-04-18 22:20:55.628000+00:00</td>\n",
       "      <td>Year 5</td>\n",
       "      <td>2652</td>\n",
       "      <td>United Kingdom</td>\n",
       "      <td>University of Leeds</td>\n",
       "      <td>NaN</td>\n",
       "      <td>6140</td>\n",
       "      <td>bruh she's 13 with a history of gallstones what</td>\n",
       "      <td>False</td>\n",
       "      <td>None</td>\n",
       "      <td>None</td>\n",
       "      <td>None</td>\n",
       "      <td>None</td>\n",
       "    </tr>\n",
       "    <tr>\n",
       "      <th>9763</th>\n",
       "      <td>13524</td>\n",
       "      <td>2022-09-30 19:16:45.898743+00:00</td>\n",
       "      <td>3622</td>\n",
       "      <td>2020-12-17 21:56:34.845000+00:00</td>\n",
       "      <td>Year 4</td>\n",
       "      <td>2665</td>\n",
       "      <td>United Kingdom</td>\n",
       "      <td>University of Plymouth</td>\n",
       "      <td>8212.0</td>\n",
       "      <td>4774</td>\n",
       "      <td>honestly, got to charge this one to the game :(</td>\n",
       "      <td>False</td>\n",
       "      <td>None</td>\n",
       "      <td>None</td>\n",
       "      <td>None</td>\n",
       "      <td>None</td>\n",
       "    </tr>\n",
       "    <tr>\n",
       "      <th>9859</th>\n",
       "      <td>13641</td>\n",
       "      <td>2022-10-08 19:13:24.129286+00:00</td>\n",
       "      <td>16741</td>\n",
       "      <td>2022-01-24 20:02:27.888000+00:00</td>\n",
       "      <td>Year 3</td>\n",
       "      <td>2530</td>\n",
       "      <td>United Kingdom</td>\n",
       "      <td>Anglia Ruskin University</td>\n",
       "      <td>12172.0</td>\n",
       "      <td>5612</td>\n",
       "      <td>Am I going loco, where does it say that?</td>\n",
       "      <td>False</td>\n",
       "      <td>None</td>\n",
       "      <td>None</td>\n",
       "      <td>None</td>\n",
       "      <td>None</td>\n",
       "    </tr>\n",
       "  </tbody>\n",
       "</table>\n",
       "</div>"
      ],
      "text/plain": [
       "         id                        createdAt  userId  \\\n",
       "4036   6076 2022-01-04 09:46:39.293000+00:00    7166   \n",
       "9763  13524 2022-09-30 19:16:45.898743+00:00    3622   \n",
       "9859  13641 2022-10-08 19:13:24.129286+00:00   16741   \n",
       "\n",
       "                        userCreatedAt classYear  universityId         country  \\\n",
       "4036 2021-04-18 22:20:55.628000+00:00    Year 5          2652  United Kingdom   \n",
       "9763 2020-12-17 21:56:34.845000+00:00    Year 4          2665  United Kingdom   \n",
       "9859 2022-01-24 20:02:27.888000+00:00    Year 3          2530  United Kingdom   \n",
       "\n",
       "                universityName  parentId  questionId  \\\n",
       "4036       University of Leeds       NaN        6140   \n",
       "9763    University of Plymouth    8212.0        4774   \n",
       "9859  Anglia Ruskin University   12172.0        5612   \n",
       "\n",
       "                                              comment review  \\\n",
       "4036  bruh she's 13 with a history of gallstones what  False   \n",
       "9763  honestly, got to charge this one to the game :(  False   \n",
       "9859         Am I going loco, where does it say that?  False   \n",
       "\n",
       "     chapter_explanation_update question_update question_explanation_update  \\\n",
       "4036                       None            None                        None   \n",
       "9763                       None            None                        None   \n",
       "9859                       None            None                        None   \n",
       "\n",
       "     qc_explanation_update  \n",
       "4036                  None  \n",
       "9763                  None  \n",
       "9859                  None  "
      ]
     },
     "execution_count": 18,
     "metadata": {},
     "output_type": "execute_result"
    }
   ],
   "source": [
    "import pandas as pd\n",
    "\n",
    "file_path = \"../data/1comments.h5\"\n",
    "df = pd.read_hdf(file_path, key='df')\n",
    "df.sample(3)"
   ]
  },
  {
   "cell_type": "code",
   "execution_count": 19,
   "metadata": {},
   "outputs": [],
   "source": [
    "from datasets import Dataset\n",
    "\n",
    "def dataloader(ds: Dataset):\n",
    "  for item in ds:\n",
    "    yield item['text']\n",
    "\n",
    "ds = Dataset.from_dict({'text': df['comment']})"
   ]
  },
  {
   "attachments": {},
   "cell_type": "markdown",
   "metadata": {},
   "source": [
    "# Tone analysis\n",
    "\n",
    "Checking the tone of submissions"
   ]
  },
  {
   "cell_type": "code",
   "execution_count": 20,
   "metadata": {},
   "outputs": [],
   "source": [
    "tone_ckpt = \"quesmed/tone\""
   ]
  },
  {
   "cell_type": "code",
   "execution_count": 21,
   "metadata": {},
   "outputs": [
    {
     "data": {
      "application/vnd.jupyter.widget-view+json": {
       "model_id": "a716f1b3b8bb4cc896dfcbca4f201174",
       "version_major": 2,
       "version_minor": 0
      },
      "text/plain": [
       "Downloading (…)okenizer_config.json:   0%|          | 0.00/1.36k [00:00<?, ?B/s]"
      ]
     },
     "metadata": {},
     "output_type": "display_data"
    },
    {
     "data": {
      "application/vnd.jupyter.widget-view+json": {
       "model_id": "48409adf320941909a92ade70917de8e",
       "version_major": 2,
       "version_minor": 0
      },
      "text/plain": [
       "Downloading (…)olve/main/vocab.json:   0%|          | 0.00/798k [00:00<?, ?B/s]"
      ]
     },
     "metadata": {},
     "output_type": "display_data"
    },
    {
     "data": {
      "application/vnd.jupyter.widget-view+json": {
       "model_id": "2cbd1f34aee34e8d8459e6c3f29233af",
       "version_major": 2,
       "version_minor": 0
      },
      "text/plain": [
       "Downloading (…)olve/main/merges.txt:   0%|          | 0.00/456k [00:00<?, ?B/s]"
      ]
     },
     "metadata": {},
     "output_type": "display_data"
    },
    {
     "data": {
      "application/vnd.jupyter.widget-view+json": {
       "model_id": "ba57f13cb8f546ca87b16e00b356f5a0",
       "version_major": 2,
       "version_minor": 0
      },
      "text/plain": [
       "Downloading (…)/main/tokenizer.json:   0%|          | 0.00/2.11M [00:00<?, ?B/s]"
      ]
     },
     "metadata": {},
     "output_type": "display_data"
    },
    {
     "data": {
      "application/vnd.jupyter.widget-view+json": {
       "model_id": "c1eefaa10b0249d5898bf7b058873d7c",
       "version_major": 2,
       "version_minor": 0
      },
      "text/plain": [
       "Downloading (…)cial_tokens_map.json:   0%|          | 0.00/280 [00:00<?, ?B/s]"
      ]
     },
     "metadata": {},
     "output_type": "display_data"
    },
    {
     "data": {
      "application/vnd.jupyter.widget-view+json": {
       "model_id": "162d7e4f45e0499f87088e17bdee645f",
       "version_major": 2,
       "version_minor": 0
      },
      "text/plain": [
       "Downloading (…)lve/main/config.json:   0%|          | 0.00/964 [00:00<?, ?B/s]"
      ]
     },
     "metadata": {},
     "output_type": "display_data"
    },
    {
     "data": {
      "application/vnd.jupyter.widget-view+json": {
       "model_id": "6cd3b46d9bb14e14ae809ea754dff814",
       "version_major": 2,
       "version_minor": 0
      },
      "text/plain": [
       "Downloading pytorch_model.bin:   0%|          | 0.00/499M [00:00<?, ?B/s]"
      ]
     },
     "metadata": {},
     "output_type": "display_data"
    }
   ],
   "source": [
    "tone_tokenizer, tone_config, tone_model = init_model(tone_ckpt)\n"
   ]
  },
  {
   "cell_type": "code",
   "execution_count": 22,
   "metadata": {},
   "outputs": [
    {
     "data": {
      "text/plain": [
       "[{'label': 'neutral', 'score': 0.5109187364578247},\n",
       " {'label': 'negative', 'score': 0.4633302688598633},\n",
       " {'label': 'positive', 'score': 0.02575104683637619}]"
      ]
     },
     "execution_count": 22,
     "metadata": {},
     "output_type": "execute_result"
    }
   ],
   "source": [
    "from transformers import pipeline\n",
    "from tqdm import tqdm\n",
    "\n",
    "tone_pipe = pipeline(\"sentiment-analysis\", \n",
    "  model=tone_model, \n",
    "  device=device,\n",
    "  tokenizer=tone_tokenizer,\n",
    "  max_length=512, \n",
    "  truncation=True\n",
    ")\n",
    "\n",
    "tone_labels = ['neutral', 'negative', 'positive']\n",
    "\n",
    "tone_pipe('Cases of Covid are rising!', top_k=len(tone_labels), batch_size=64)"
   ]
  },
  {
   "cell_type": "code",
   "execution_count": 23,
   "metadata": {},
   "outputs": [
    {
     "name": "stderr",
     "output_type": "stream",
     "text": [
      "100%|██████████| 24912/24912 [02:14<00:00, 185.82it/s]\n"
     ]
    }
   ],
   "source": [
    "res_emotion = []\n",
    "for res in tqdm(tone_pipe(dataloader(ds), top_k=len(tone_labels), batch_size=64), total=ds.num_rows):\n",
    "  res_sorted = sorted(res, key=lambda x: x['label'])\n",
    "  res_emotion.append([x['score'] for x in res_sorted])\n",
    "\n",
    "df = df.join(pd.DataFrame(res_emotion, columns=tone_labels))"
   ]
  },
  {
   "cell_type": "code",
   "execution_count": 24,
   "metadata": {},
   "outputs": [],
   "source": [
    "df['tone'] = df[tone_labels].idxmax(axis=1)"
   ]
  },
  {
   "cell_type": "code",
   "execution_count": 25,
   "metadata": {},
   "outputs": [
    {
     "name": "stderr",
     "output_type": "stream",
     "text": [
      "/var/folders/lk/lhmn07j501l6rng06tjrl8cm0000gn/T/ipykernel_3569/182183184.py:1: PerformanceWarning: \n",
      "your performance may suffer as PyTables will pickle object types that it cannot\n",
      "map directly to c-types [inferred_type->mixed,key->block4_values] [items->Index(['classYear', 'country', 'universityName', 'comment', 'review',\n",
      "       'chapter_explanation_update', 'question_update',\n",
      "       'question_explanation_update', 'qc_explanation_update', 'tone'],\n",
      "      dtype='object')]\n",
      "\n",
      "  df.to_hdf('data/tuned/2comments.h5', key='df', mode='w')\n"
     ]
    }
   ],
   "source": [
    "df.to_hdf('../data/tuned/2comments.h5', key='df', mode='w')\n",
    "# df = pd.read_hdf('../data/tuned/2comments.h5', key='df')"
   ]
  },
  {
   "cell_type": "code",
   "execution_count": 26,
   "metadata": {},
   "outputs": [
    {
     "data": {
      "image/png": "[encoded data removed]",
      "text/plain": [
       "<Figure size 640x480 with 1 Axes>"
      ]
     },
     "metadata": {},
     "output_type": "display_data"
    }
   ],
   "source": [
    "fig, ax = plt.subplots()\n",
    "ax = df['tone'].value_counts().plot(kind='bar')\n",
    "plt.xticks(rotation=0, ha='center')\n",
    "plt.show()"
   ]
  },
  {
   "attachments": {},
   "cell_type": "markdown",
   "metadata": {},
   "source": [
    "# Emotion Analysis\n",
    "\n",
    "Checking the emotion of submissions"
   ]
  },
  {
   "cell_type": "code",
   "execution_count": 11,
   "metadata": {},
   "outputs": [],
   "source": [
    "emotion_chkp = \"quesmed/emotion\"\n",
    "emotion_tokenizer, emotion_config, emotion_model = init_model(emotion_chkp)\n"
   ]
  },
  {
   "cell_type": "code",
   "execution_count": 12,
   "metadata": {},
   "outputs": [
    {
     "name": "stderr",
     "output_type": "stream",
     "text": [
      "Failed to determine 'entailment' label id from the label2id mapping in the model config. Setting to -1. Define a descriptive label2id mapping in the model config to ensure correct outputs.\n"
     ]
    },
    {
     "data": {
      "text/plain": [
       "{'sequence': 'Cases of Covid are rising!',\n",
       " 'labels': ['surprise', 'joy', 'anger', 'love', 'sadness', 'fear'],\n",
       " 'scores': [0.24120871722698212,\n",
       "  0.16383084654808044,\n",
       "  0.15383082628250122,\n",
       "  0.15226863324642181,\n",
       "  0.14564979076385498,\n",
       "  0.1432112157344818]}"
      ]
     },
     "execution_count": 12,
     "metadata": {},
     "output_type": "execute_result"
    }
   ],
   "source": [
    "emotion_pipe = pipeline(\"zero-shot-classification\", \n",
    "  model=emotion_model,\n",
    "  tokenizer=emotion_tokenizer,\n",
    "  device=device,\n",
    "  max_length=512,\n",
    "  truncation=True\n",
    ")\n",
    "\n",
    "emotion_labels = ['sadness', 'joy', 'love', 'anger', 'fear', 'surprise']\n",
    "\n",
    "emotion_pipe('Cases of Covid are rising!', \n",
    "             top_k=len(emotion_labels), \n",
    "             candidate_labels=emotion_labels\n",
    "             )"
   ]
  },
  {
   "cell_type": "code",
   "execution_count": 13,
   "metadata": {},
   "outputs": [
    {
     "name": "stderr",
     "output_type": "stream",
     "text": [
      "100%|██████████| 24912/24912 [04:56<00:00, 84.02it/s] \n"
     ]
    }
   ],
   "source": [
    "res_emotion = []\n",
    "for res in tqdm(emotion_pipe(dataloader(ds), top_k=len(emotion_labels), batch_size=64, candidate_labels=emotion_labels), total=ds.num_rows):\n",
    "  res_list = []\n",
    "  for label, score in zip(res['labels'], res['scores']):\n",
    "    res_list.append({'label': label, 'score': score})\n",
    "  res_sorted = sorted(res_list, key=lambda x: x['label'])\n",
    "  res_emotion.append([x['score'] for x in res_sorted])\n",
    "\n",
    "df = df.join(pd.DataFrame(res_emotion, columns=emotion_labels))"
   ]
  },
  {
   "cell_type": "code",
   "execution_count": 14,
   "metadata": {},
   "outputs": [],
   "source": [
    "df['emotion'] = df[emotion_labels].idxmax(axis=1)"
   ]
  },
  {
   "cell_type": "code",
   "execution_count": 15,
   "metadata": {},
   "outputs": [
    {
     "name": "stderr",
     "output_type": "stream",
     "text": [
      "/var/folders/lk/lhmn07j501l6rng06tjrl8cm0000gn/T/ipykernel_3569/215985439.py:1: PerformanceWarning: \n",
      "your performance may suffer as PyTables will pickle object types that it cannot\n",
      "map directly to c-types [inferred_type->mixed,key->block4_values] [items->Index(['classYear', 'country', 'universityName', 'comment', 'review',\n",
      "       'chapter_explanation_update', 'question_update',\n",
      "       'question_explanation_update', 'qc_explanation_update', 'tone',\n",
      "       'emotion'],\n",
      "      dtype='object')]\n",
      "\n",
      "  df.to_hdf('data/tuned/3comments.h5', key='df', mode='w')\n"
     ]
    }
   ],
   "source": [
    "df.to_hdf('../data/tuned/3comments.h5', key='df', mode='w')\n",
    "# df = pd.read_hdf('../data/tuned/3comments.h5', key='df')"
   ]
  },
  {
   "cell_type": "code",
   "execution_count": 16,
   "metadata": {},
   "outputs": [
    {
     "data": {
      "image/png": "[encoded data removed]",
      "text/plain": [
       "<Figure size 640x480 with 1 Axes>"
      ]
     },
     "metadata": {},
     "output_type": "display_data"
    }
   ],
   "source": [
    "fig, ax = plt.subplots()\n",
    "ax = df['emotion'].value_counts().plot(kind='bar')\n",
    "\n",
    "plt.show()"
   ]
  },
  {
   "attachments": {},
   "cell_type": "markdown",
   "metadata": {},
   "source": [
    "# Zero-shot classification\n",
    "\n",
    "Classification of submissions based on certain categories"
   ]
  },
  {
   "cell_type": "code",
   "execution_count": 58,
   "metadata": {},
   "outputs": [],
   "source": []
  },
  {
   "cell_type": "code",
   "execution_count": 64,
   "metadata": {},
   "outputs": [
    {
     "name": "stderr",
     "output_type": "stream",
     "text": [
      "Some weights of BartForSequenceClassification were not initialized from the model checkpoint at facebook/bart-large-mnli and are newly initialized because the shapes did not match:\n",
      "- classification_head.out_proj.bias: found shape torch.Size([3]) in the checkpoint and torch.Size([5]) in the model instantiated\n",
      "- classification_head.out_proj.weight: found shape torch.Size([3, 1024]) in the checkpoint and torch.Size([5, 1024]) in the model instantiated\n",
      "You should probably TRAIN this model on a down-stream task to be able to use it for predictions and inference.\n",
      "Failed to determine 'entailment' label id from the label2id mapping in the model config. Setting to -1. Define a descriptive label2id mapping in the model config to ensure correct outputs.\n"
     ]
    },
    {
     "data": {
      "text/plain": [
       "{'educational': 0.2142215371131897,\n",
       " 'giving feedback': 0.1849270462989807,\n",
       " 'asking a question': 0.27699366211891174,\n",
       " 'insulting': 0.16431444883346558,\n",
       " 'supporting': 0.15954318642616272}"
      ]
     },
     "execution_count": 64,
     "metadata": {},
     "output_type": "execute_result"
    }
   ],
   "source": [
    "from transformers import AutoModelForSequenceClassification\n",
    "\n",
    "theme_chkp = \"facebook/bart-large-mnli\"\n",
    "theme_tokenizer, _, _ = init_model(theme_chkp)\n",
    "\n",
    "theme_labels = ['educational', 'giving feedback', 'asking a question', 'insulting', 'supporting']\n",
    "\n",
    "id2label = {i: k for i, k in enumerate(theme_labels)}\n",
    "label2id = {k: i for i, k in enumerate(theme_labels)}\n",
    "\n",
    "theme_model = AutoModelForSequenceClassification.from_pretrained(theme_chkp,\n",
    "  num_labels=len(theme_labels),\n",
    "  id2label=id2label,\n",
    "  label2id=label2id,\n",
    "  ignore_mismatched_sizes=True\n",
    ")\n",
    "\n",
    "theme_pipe = pipeline(\"zero-shot-classification\", \n",
    "  model=theme_model,\n",
    "  tokenizer=theme_tokenizer,\n",
    "  device=device,\n",
    "  max_length=512,\n",
    "  truncation=True\n",
    ")\n",
    "\n",
    "def theme_analysis(text: str, multi_label=False):\n",
    "  res = theme_pipe(text, theme_labels, multi_label=multi_label)\n",
    "\n",
    "  output = {k: 0.0 for k in theme_labels}\n",
    "\n",
    "  for k, score in zip(res['labels'], res['scores']):\n",
    "      output[k] = score\n",
    "  \n",
    "  return output\n",
    "\n",
    "theme_analysis(\"Covid cases are increasing fast!\")"
   ]
  },
  {
   "cell_type": "code",
   "execution_count": 40,
   "metadata": {},
   "outputs": [],
   "source": [
    "for k in theme_labels:\n",
    "    df[k] = 0.0"
   ]
  },
  {
   "cell_type": "code",
   "execution_count": 41,
   "metadata": {},
   "outputs": [
    {
     "name": "stderr",
     "output_type": "stream",
     "text": [
      "100%|██████████| 22514/22514 [5:54:48<00:00,  1.06it/s]    \n"
     ]
    }
   ],
   "source": [
    "for id in tqdm(df.index):\n",
    "    selftext = df.at[id, 'comment']\n",
    "    if len(selftext) == 0:\n",
    "        continue\n",
    "    output = theme_analysis(selftext)\n",
    "    for k in theme_labels:\n",
    "        df.at[id, k] = output[k]"
   ]
  },
  {
   "cell_type": "code",
   "execution_count": 42,
   "metadata": {},
   "outputs": [],
   "source": [
    "df['theme'] = df[theme_labels].idxmax(axis=1)"
   ]
  },
  {
   "cell_type": "code",
   "execution_count": 65,
   "metadata": {},
   "outputs": [],
   "source": [
    "df.to_hdf('../data/4comments.h5', key='df', mode='w')\n",
    "# df = pd.read_hdf('../data/4comments.h5', key='df')"
   ]
  },
  {
   "cell_type": "code",
   "execution_count": 66,
   "metadata": {},
   "outputs": [
    {
     "data": {
      "image/png": "[encoded data removed]",
      "text/plain": [
       "<Figure size 640x480 with 1 Axes>"
      ]
     },
     "metadata": {},
     "output_type": "display_data"
    }
   ],
   "source": [
    "fig, ax = plt.subplots()\n",
    "ax = df['theme'].value_counts().plot(kind='bar')\n",
    "\n",
    "plt.show()"
   ]
  },
  {
   "cell_type": "code",
   "execution_count": null,
   "metadata": {},
   "outputs": [],
   "source": []
  }
 ],
 "metadata": {
  "kernelspec": {
   "display_name": "fusion_analysis-xH46poxW",
   "language": "python",
   "name": "python3"
  },
  "language_info": {
   "codemirror_mode": {
    "name": "ipython",
    "version": 3
   },
   "file_extension": ".py",
   "mimetype": "text/x-python",
   "name": "python",
   "nbconvert_exporter": "python",
   "pygments_lexer": "ipython3",
   "version": "3.11.4"
  },
  "orig_nbformat": 4
 },
 "nbformat": 4,
 "nbformat_minor": 2
}
