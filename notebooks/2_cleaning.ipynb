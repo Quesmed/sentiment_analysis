{
 "cells": [
  {
   "cell_type": "code",
   "execution_count": 7,
   "metadata": {},
   "outputs": [
    {
     "data": {
      "text/html": [
       "<div>\n",
       "<style scoped>\n",
       "    .dataframe tbody tr th:only-of-type {\n",
       "        vertical-align: middle;\n",
       "    }\n",
       "\n",
       "    .dataframe tbody tr th {\n",
       "        vertical-align: top;\n",
       "    }\n",
       "\n",
       "    .dataframe thead th {\n",
       "        text-align: right;\n",
       "    }\n",
       "</style>\n",
       "<table border=\"1\" class=\"dataframe\">\n",
       "  <thead>\n",
       "    <tr style=\"text-align: right;\">\n",
       "      <th></th>\n",
       "      <th>id</th>\n",
       "      <th>createdAt</th>\n",
       "      <th>userId</th>\n",
       "      <th>userCreatedAt</th>\n",
       "      <th>classYear</th>\n",
       "      <th>universityId</th>\n",
       "      <th>country</th>\n",
       "      <th>universityName</th>\n",
       "      <th>parentId</th>\n",
       "      <th>questionId</th>\n",
       "      <th>comment</th>\n",
       "      <th>review</th>\n",
       "      <th>likes</th>\n",
       "      <th>dislikes</th>\n",
       "    </tr>\n",
       "  </thead>\n",
       "  <tbody>\n",
       "    <tr>\n",
       "      <th>6330</th>\n",
       "      <td>9155</td>\n",
       "      <td>2022-03-29 15:10:12.704096+00:00</td>\n",
       "      <td>7885</td>\n",
       "      <td>2021-05-01 15:40:23.354000+00:00</td>\n",
       "      <td>Year 5</td>\n",
       "      <td>2625</td>\n",
       "      <td>United Kingdom</td>\n",
       "      <td>University of Birmingham</td>\n",
       "      <td>NaN</td>\n",
       "      <td>5020</td>\n",
       "      <td>Surely the parity is 4 - the stillbirth at 28w...</td>\n",
       "      <td>False</td>\n",
       "      <td>4.0</td>\n",
       "      <td>1.0</td>\n",
       "    </tr>\n",
       "    <tr>\n",
       "      <th>7417</th>\n",
       "      <td>10566</td>\n",
       "      <td>2022-05-10 16:39:42.928534+00:00</td>\n",
       "      <td>15556</td>\n",
       "      <td>2021-12-17 11:52:52.421000+00:00</td>\n",
       "      <td>Year 5</td>\n",
       "      <td>2643</td>\n",
       "      <td>United Kingdom</td>\n",
       "      <td>University of Glasgow</td>\n",
       "      <td>2452.0</td>\n",
       "      <td>963</td>\n",
       "      <td>@Anon 23/01/22: I think the OP's question was ...</td>\n",
       "      <td>False</td>\n",
       "      <td>9.0</td>\n",
       "      <td>0.0</td>\n",
       "    </tr>\n",
       "    <tr>\n",
       "      <th>19408</th>\n",
       "      <td>24660</td>\n",
       "      <td>2023-05-15 16:35:29.721368+00:00</td>\n",
       "      <td>20900</td>\n",
       "      <td>2022-04-27 11:30:35.124682+00:00</td>\n",
       "      <td>Year 4</td>\n",
       "      <td>2670</td>\n",
       "      <td>United Kingdom</td>\n",
       "      <td>University of Southampton</td>\n",
       "      <td>NaN</td>\n",
       "      <td>8929</td>\n",
       "      <td>this would present way earlier i swear</td>\n",
       "      <td>False</td>\n",
       "      <td>6.0</td>\n",
       "      <td>1.0</td>\n",
       "    </tr>\n",
       "  </tbody>\n",
       "</table>\n",
       "</div>"
      ],
      "text/plain": [
       "          id                        createdAt  userId  \\\n",
       "6330    9155 2022-03-29 15:10:12.704096+00:00    7885   \n",
       "7417   10566 2022-05-10 16:39:42.928534+00:00   15556   \n",
       "19408  24660 2023-05-15 16:35:29.721368+00:00   20900   \n",
       "\n",
       "                         userCreatedAt classYear  universityId  \\\n",
       "6330  2021-05-01 15:40:23.354000+00:00    Year 5          2625   \n",
       "7417  2021-12-17 11:52:52.421000+00:00    Year 5          2643   \n",
       "19408 2022-04-27 11:30:35.124682+00:00    Year 4          2670   \n",
       "\n",
       "              country             universityName  parentId  questionId  \\\n",
       "6330   United Kingdom   University of Birmingham       NaN        5020   \n",
       "7417   United Kingdom      University of Glasgow    2452.0         963   \n",
       "19408  United Kingdom  University of Southampton       NaN        8929   \n",
       "\n",
       "                                                 comment review  likes  \\\n",
       "6330   Surely the parity is 4 - the stillbirth at 28w...  False    4.0   \n",
       "7417   @Anon 23/01/22: I think the OP's question was ...  False    9.0   \n",
       "19408             this would present way earlier i swear  False    6.0   \n",
       "\n",
       "       dislikes  \n",
       "6330        1.0  \n",
       "7417        0.0  \n",
       "19408       1.0  "
      ]
     },
     "execution_count": 7,
     "metadata": {},
     "output_type": "execute_result"
    }
   ],
   "source": [
    "import pandas as pd\n",
    "\n",
    "file_path = \"../data/1comments.h5\"\n",
    "df = pd.read_hdf(file_path, key='df')\n",
    "df.sample(3)"
   ]
  },
  {
   "attachments": {},
   "cell_type": "markdown",
   "metadata": {},
   "source": [
    "## Processing DataFrame"
   ]
  },
  {
   "cell_type": "code",
   "execution_count": 8,
   "metadata": {},
   "outputs": [
    {
     "data": {
      "text/plain": [
       "'Date range of comments: 2021-03-25 11:22:56.133000+00:00 to 2023-12-20 20:28:56.024306+00:00'"
      ]
     },
     "execution_count": 8,
     "metadata": {},
     "output_type": "execute_result"
    }
   ],
   "source": [
    "f\"Date range of comments: {df.iat[0, 1]} to {df.iat[-1, 1]}\""
   ]
  },
  {
   "cell_type": "code",
   "execution_count": 9,
   "metadata": {},
   "outputs": [
    {
     "data": {
      "text/plain": [
       "comment\n",
       "True     30157\n",
       "False      155\n",
       "Name: count, dtype: int64"
      ]
     },
     "execution_count": 9,
     "metadata": {},
     "output_type": "execute_result"
    }
   ],
   "source": [
    "blank_comments = df.comment.str.len() > 2\n",
    "blank_comments.value_counts()"
   ]
  },
  {
   "cell_type": "code",
   "execution_count": 12,
   "metadata": {},
   "outputs": [
    {
     "data": {
      "text/plain": [
       "(30157, 14)"
      ]
     },
     "execution_count": 12,
     "metadata": {},
     "output_type": "execute_result"
    }
   ],
   "source": [
    "df = df.loc[blank_comments]\n",
    "df.shape"
   ]
  },
  {
   "cell_type": "code",
   "execution_count": 15,
   "metadata": {},
   "outputs": [],
   "source": [
    "df['likes'] = df['likes'].fillna(0).astype(int)\n",
    "df['dislikes'] = df['dislikes'].fillna(0).astype(int)"
   ]
  },
  {
   "cell_type": "code",
   "execution_count": 17,
   "metadata": {},
   "outputs": [
    {
     "name": "stderr",
     "output_type": "stream",
     "text": [
      "/var/folders/lk/lhmn07j501l6rng06tjrl8cm0000gn/T/ipykernel_69658/223130718.py:2: PerformanceWarning: \n",
      "your performance may suffer as PyTables will pickle object types that it cannot\n",
      "map directly to c-types [inferred_type->mixed,key->block4_values] [items->Index(['classYear', 'country', 'universityName', 'comment', 'review'], dtype='object')]\n",
      "\n",
      "  df.to_hdf(save_path, key='df', mode='w')\n"
     ]
    }
   ],
   "source": [
    "save_path = \"../data/comments_clean.h5\"\n",
    "df.to_hdf(save_path, key='df', mode='w')"
   ]
  },
  {
   "cell_type": "code",
   "execution_count": null,
   "metadata": {},
   "outputs": [],
   "source": []
  }
 ],
 "metadata": {
  "kernelspec": {
   "display_name": "fusion_analysis-xH46poxW",
   "language": "python",
   "name": "python3"
  },
  "language_info": {
   "codemirror_mode": {
    "name": "ipython",
    "version": 3
   },
   "file_extension": ".py",
   "mimetype": "text/x-python",
   "name": "python",
   "nbconvert_exporter": "python",
   "pygments_lexer": "ipython3",
   "version": "3.11.6"
  },
  "orig_nbformat": 4
 },
 "nbformat": 4,
 "nbformat_minor": 2
}
