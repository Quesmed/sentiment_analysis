{
 "cells": [
  {
   "attachments": {},
   "cell_type": "markdown",
   "metadata": {},
   "source": [
    "# Preparing the dataset\n",
    "\n",
    "Pulling manual data classification and placing it into train-validate datasets"
   ]
  },
  {
   "cell_type": "code",
   "execution_count": 13,
   "metadata": {},
   "outputs": [
    {
     "data": {
      "text/html": [
       "<div>\n",
       "<style scoped>\n",
       "    .dataframe tbody tr th:only-of-type {\n",
       "        vertical-align: middle;\n",
       "    }\n",
       "\n",
       "    .dataframe tbody tr th {\n",
       "        vertical-align: top;\n",
       "    }\n",
       "\n",
       "    .dataframe thead th {\n",
       "        text-align: right;\n",
       "    }\n",
       "</style>\n",
       "<table border=\"1\" class=\"dataframe\">\n",
       "  <thead>\n",
       "    <tr style=\"text-align: right;\">\n",
       "      <th></th>\n",
       "      <th>Unnamed: 0</th>\n",
       "      <th>id</th>\n",
       "      <th>createdAt</th>\n",
       "      <th>userId</th>\n",
       "      <th>userCreatedAt</th>\n",
       "      <th>classYear</th>\n",
       "      <th>universityId</th>\n",
       "      <th>country</th>\n",
       "      <th>universityName</th>\n",
       "      <th>parentId</th>\n",
       "      <th>...</th>\n",
       "      <th>Puzzled</th>\n",
       "      <th>emotion</th>\n",
       "      <th>educational</th>\n",
       "      <th>giving feedback</th>\n",
       "      <th>asking a question</th>\n",
       "      <th>insulting</th>\n",
       "      <th>supporting</th>\n",
       "      <th>Humour</th>\n",
       "      <th>Frustration</th>\n",
       "      <th>theme</th>\n",
       "    </tr>\n",
       "  </thead>\n",
       "  <tbody>\n",
       "    <tr>\n",
       "      <th>0</th>\n",
       "      <td>0</td>\n",
       "      <td>2</td>\n",
       "      <td>2021-03-25 11:22:56.133000+00:00</td>\n",
       "      <td>1195</td>\n",
       "      <td>2019-03-18 18:41:10.891000+00:00</td>\n",
       "      <td>Year 4</td>\n",
       "      <td>2620</td>\n",
       "      <td>United Kingdom</td>\n",
       "      <td>University College London (UCL)</td>\n",
       "      <td>NaN</td>\n",
       "      <td>...</td>\n",
       "      <td>0.0</td>\n",
       "      <td>joy</td>\n",
       "      <td>0.0</td>\n",
       "      <td>0.0</td>\n",
       "      <td>0.0</td>\n",
       "      <td>0.0</td>\n",
       "      <td>1.0</td>\n",
       "      <td>0.0</td>\n",
       "      <td>0.0</td>\n",
       "      <td>supporting</td>\n",
       "    </tr>\n",
       "    <tr>\n",
       "      <th>1</th>\n",
       "      <td>1</td>\n",
       "      <td>4</td>\n",
       "      <td>2021-03-25 12:14:48.834000+00:00</td>\n",
       "      <td>1542</td>\n",
       "      <td>2019-06-01 20:00:49.151000+00:00</td>\n",
       "      <td>Year 5</td>\n",
       "      <td>2620</td>\n",
       "      <td>United Kingdom</td>\n",
       "      <td>University College London (UCL)</td>\n",
       "      <td>NaN</td>\n",
       "      <td>...</td>\n",
       "      <td>0.0</td>\n",
       "      <td>fear</td>\n",
       "      <td>0.0</td>\n",
       "      <td>0.0</td>\n",
       "      <td>1.0</td>\n",
       "      <td>0.0</td>\n",
       "      <td>0.0</td>\n",
       "      <td>0.0</td>\n",
       "      <td>0.0</td>\n",
       "      <td>asking a question</td>\n",
       "    </tr>\n",
       "    <tr>\n",
       "      <th>2</th>\n",
       "      <td>2</td>\n",
       "      <td>5</td>\n",
       "      <td>2021-03-25 12:17:29.904000+00:00</td>\n",
       "      <td>1542</td>\n",
       "      <td>2019-06-01 20:00:49.151000+00:00</td>\n",
       "      <td>Year 5</td>\n",
       "      <td>2620</td>\n",
       "      <td>United Kingdom</td>\n",
       "      <td>University College London (UCL)</td>\n",
       "      <td>NaN</td>\n",
       "      <td>...</td>\n",
       "      <td>1.0</td>\n",
       "      <td>?puzzled</td>\n",
       "      <td>0.0</td>\n",
       "      <td>0.0</td>\n",
       "      <td>1.0</td>\n",
       "      <td>0.0</td>\n",
       "      <td>0.0</td>\n",
       "      <td>0.0</td>\n",
       "      <td>0.0</td>\n",
       "      <td>asking a question</td>\n",
       "    </tr>\n",
       "  </tbody>\n",
       "</table>\n",
       "<p>3 rows × 37 columns</p>\n",
       "</div>"
      ],
      "text/plain": [
       "   Unnamed: 0  id                         createdAt  userId  \\\n",
       "0           0   2  2021-03-25 11:22:56.133000+00:00    1195   \n",
       "1           1   4  2021-03-25 12:14:48.834000+00:00    1542   \n",
       "2           2   5  2021-03-25 12:17:29.904000+00:00    1542   \n",
       "\n",
       "                      userCreatedAt classYear  universityId         country  \\\n",
       "0  2019-03-18 18:41:10.891000+00:00    Year 4          2620  United Kingdom   \n",
       "1  2019-06-01 20:00:49.151000+00:00    Year 5          2620  United Kingdom   \n",
       "2  2019-06-01 20:00:49.151000+00:00    Year 5          2620  United Kingdom   \n",
       "\n",
       "                    universityName  parentId  ...  Puzzled   emotion  \\\n",
       "0  University College London (UCL)       NaN  ...      0.0       joy   \n",
       "1  University College London (UCL)       NaN  ...      0.0      fear   \n",
       "2  University College London (UCL)       NaN  ...      1.0  ?puzzled   \n",
       "\n",
       "   educational  giving feedback  asking a question  insulting  supporting  \\\n",
       "0          0.0              0.0                0.0        0.0         1.0   \n",
       "1          0.0              0.0                1.0        0.0         0.0   \n",
       "2          0.0              0.0                1.0        0.0         0.0   \n",
       "\n",
       "   Humour  Frustration              theme  \n",
       "0     0.0          0.0         supporting  \n",
       "1     0.0          0.0  asking a question  \n",
       "2     0.0          0.0  asking a question  \n",
       "\n",
       "[3 rows x 37 columns]"
      ]
     },
     "execution_count": 13,
     "metadata": {},
     "output_type": "execute_result"
    }
   ],
   "source": [
    "import pandas as pd\n",
    "\n",
    "df = pd.read_excel('data/comments_rlhf.xlsx')\n",
    "df.head(3)"
   ]
  },
  {
   "cell_type": "code",
   "execution_count": 14,
   "metadata": {},
   "outputs": [],
   "source": [
    "df_rlhf = df.loc[df['Puzzled'].notna()].copy()"
   ]
  },
  {
   "cell_type": "code",
   "execution_count": 15,
   "metadata": {},
   "outputs": [],
   "source": [
    "import numpy as np\n",
    "emotion_labels = ['sadness', 'joy', 'love', 'anger', 'fear', 'surprise', 'Puzzled']\n",
    "df_rlhf['surprise'] = np.minimum(df_rlhf['surprise'] + df_rlhf['Puzzled'], 1)\n",
    "df_rlhf['emotion'] = df_rlhf['emotion'].replace({'?puzzled': 'surprise'})"
   ]
  },
  {
   "cell_type": "code",
   "execution_count": 16,
   "metadata": {},
   "outputs": [],
   "source": [
    "drop_cols = [\n",
    "    'Unnamed: 0', \n",
    "    'Puzzled', \n",
    "    'chapter_explanation_update',\n",
    "    'question_update',\n",
    "    'question_explanation_update',\n",
    "    'qc_explanation_update'\n",
    "]\n",
    "df_rlhf = df_rlhf.drop(drop_cols, axis=1)"
   ]
  },
  {
   "cell_type": "code",
   "execution_count": 17,
   "metadata": {},
   "outputs": [],
   "source": [
    "rename_cols = ['Frustration', 'Humour']\n",
    "\n",
    "df_rlhf = df_rlhf.rename(columns={k: k.lower() for k in rename_cols})\n",
    "df_rlhf.loc[:, 'theme'] = df_rlhf.loc[:, 'theme'].str.lower()"
   ]
  },
  {
   "cell_type": "code",
   "execution_count": 18,
   "metadata": {},
   "outputs": [
    {
     "data": {
      "text/html": [
       "<div>\n",
       "<style scoped>\n",
       "    .dataframe tbody tr th:only-of-type {\n",
       "        vertical-align: middle;\n",
       "    }\n",
       "\n",
       "    .dataframe tbody tr th {\n",
       "        vertical-align: top;\n",
       "    }\n",
       "\n",
       "    .dataframe thead th {\n",
       "        text-align: right;\n",
       "    }\n",
       "</style>\n",
       "<table border=\"1\" class=\"dataframe\">\n",
       "  <thead>\n",
       "    <tr style=\"text-align: right;\">\n",
       "      <th></th>\n",
       "      <th>id</th>\n",
       "      <th>createdAt</th>\n",
       "      <th>userId</th>\n",
       "      <th>userCreatedAt</th>\n",
       "      <th>classYear</th>\n",
       "      <th>universityId</th>\n",
       "      <th>country</th>\n",
       "      <th>universityName</th>\n",
       "      <th>parentId</th>\n",
       "      <th>questionId</th>\n",
       "      <th>...</th>\n",
       "      <th>surprise</th>\n",
       "      <th>emotion</th>\n",
       "      <th>educational</th>\n",
       "      <th>giving feedback</th>\n",
       "      <th>asking a question</th>\n",
       "      <th>insulting</th>\n",
       "      <th>supporting</th>\n",
       "      <th>humour</th>\n",
       "      <th>frustration</th>\n",
       "      <th>theme</th>\n",
       "    </tr>\n",
       "  </thead>\n",
       "  <tbody>\n",
       "    <tr>\n",
       "      <th>0</th>\n",
       "      <td>2</td>\n",
       "      <td>2021-03-25 11:22:56.133000+00:00</td>\n",
       "      <td>1195</td>\n",
       "      <td>2019-03-18 18:41:10.891000+00:00</td>\n",
       "      <td>Year 4</td>\n",
       "      <td>2620</td>\n",
       "      <td>United Kingdom</td>\n",
       "      <td>University College London (UCL)</td>\n",
       "      <td>NaN</td>\n",
       "      <td>1170</td>\n",
       "      <td>...</td>\n",
       "      <td>0.0</td>\n",
       "      <td>joy</td>\n",
       "      <td>0.0</td>\n",
       "      <td>0.0</td>\n",
       "      <td>0.0</td>\n",
       "      <td>0.0</td>\n",
       "      <td>1.0</td>\n",
       "      <td>0.0</td>\n",
       "      <td>0.0</td>\n",
       "      <td>supporting</td>\n",
       "    </tr>\n",
       "    <tr>\n",
       "      <th>1</th>\n",
       "      <td>4</td>\n",
       "      <td>2021-03-25 12:14:48.834000+00:00</td>\n",
       "      <td>1542</td>\n",
       "      <td>2019-06-01 20:00:49.151000+00:00</td>\n",
       "      <td>Year 5</td>\n",
       "      <td>2620</td>\n",
       "      <td>United Kingdom</td>\n",
       "      <td>University College London (UCL)</td>\n",
       "      <td>NaN</td>\n",
       "      <td>1090</td>\n",
       "      <td>...</td>\n",
       "      <td>0.0</td>\n",
       "      <td>fear</td>\n",
       "      <td>0.0</td>\n",
       "      <td>0.0</td>\n",
       "      <td>1.0</td>\n",
       "      <td>0.0</td>\n",
       "      <td>0.0</td>\n",
       "      <td>0.0</td>\n",
       "      <td>0.0</td>\n",
       "      <td>asking a question</td>\n",
       "    </tr>\n",
       "    <tr>\n",
       "      <th>2</th>\n",
       "      <td>5</td>\n",
       "      <td>2021-03-25 12:17:29.904000+00:00</td>\n",
       "      <td>1542</td>\n",
       "      <td>2019-06-01 20:00:49.151000+00:00</td>\n",
       "      <td>Year 5</td>\n",
       "      <td>2620</td>\n",
       "      <td>United Kingdom</td>\n",
       "      <td>University College London (UCL)</td>\n",
       "      <td>NaN</td>\n",
       "      <td>2603</td>\n",
       "      <td>...</td>\n",
       "      <td>1.0</td>\n",
       "      <td>surprise</td>\n",
       "      <td>0.0</td>\n",
       "      <td>0.0</td>\n",
       "      <td>1.0</td>\n",
       "      <td>0.0</td>\n",
       "      <td>0.0</td>\n",
       "      <td>0.0</td>\n",
       "      <td>0.0</td>\n",
       "      <td>asking a question</td>\n",
       "    </tr>\n",
       "  </tbody>\n",
       "</table>\n",
       "<p>3 rows × 31 columns</p>\n",
       "</div>"
      ],
      "text/plain": [
       "   id                         createdAt  userId  \\\n",
       "0   2  2021-03-25 11:22:56.133000+00:00    1195   \n",
       "1   4  2021-03-25 12:14:48.834000+00:00    1542   \n",
       "2   5  2021-03-25 12:17:29.904000+00:00    1542   \n",
       "\n",
       "                      userCreatedAt classYear  universityId         country  \\\n",
       "0  2019-03-18 18:41:10.891000+00:00    Year 4          2620  United Kingdom   \n",
       "1  2019-06-01 20:00:49.151000+00:00    Year 5          2620  United Kingdom   \n",
       "2  2019-06-01 20:00:49.151000+00:00    Year 5          2620  United Kingdom   \n",
       "\n",
       "                    universityName  parentId  questionId  ... surprise  \\\n",
       "0  University College London (UCL)       NaN        1170  ...      0.0   \n",
       "1  University College London (UCL)       NaN        1090  ...      0.0   \n",
       "2  University College London (UCL)       NaN        2603  ...      1.0   \n",
       "\n",
       "    emotion  educational  giving feedback  asking a question insulting  \\\n",
       "0       joy          0.0              0.0                0.0       0.0   \n",
       "1      fear          0.0              0.0                1.0       0.0   \n",
       "2  surprise          0.0              0.0                1.0       0.0   \n",
       "\n",
       "   supporting  humour  frustration              theme  \n",
       "0         1.0     0.0          0.0         supporting  \n",
       "1         0.0     0.0          0.0  asking a question  \n",
       "2         0.0     0.0          0.0  asking a question  \n",
       "\n",
       "[3 rows x 31 columns]"
      ]
     },
     "execution_count": 18,
     "metadata": {},
     "output_type": "execute_result"
    }
   ],
   "source": [
    "df_rlhf.head(3)"
   ]
  },
  {
   "cell_type": "code",
   "execution_count": 19,
   "metadata": {},
   "outputs": [
    {
     "data": {
      "text/plain": [
       "id                     int64\n",
       "createdAt             object\n",
       "userId                 int64\n",
       "userCreatedAt         object\n",
       "classYear             object\n",
       "universityId           int64\n",
       "country               object\n",
       "universityName        object\n",
       "parentId             float64\n",
       "questionId             int64\n",
       "comment               object\n",
       "review               float64\n",
       "negative               int64\n",
       "neutral                int64\n",
       "positive               int64\n",
       "tone                  object\n",
       "sadness                int64\n",
       "joy                    int64\n",
       "love                   int64\n",
       "anger                  int64\n",
       "fear                   int64\n",
       "surprise               int64\n",
       "emotion               object\n",
       "educational            int64\n",
       "giving feedback        int64\n",
       "asking a question      int64\n",
       "insulting              int64\n",
       "supporting             int64\n",
       "humour                 int64\n",
       "frustration            int64\n",
       "theme                 object\n",
       "dtype: object"
      ]
     },
     "execution_count": 19,
     "metadata": {},
     "output_type": "execute_result"
    }
   ],
   "source": [
    "tone_labels = ['positive', 'negative', 'neutral']\n",
    "emotion_labels = ['sadness', 'joy', 'love', 'anger', 'fear', 'surprise']\n",
    "theme_labels = ['educational', 'giving feedback', 'asking a question', 'insulting', 'supporting', 'humour', 'frustration']\n",
    "\n",
    "df_rlhf[tone_labels + emotion_labels + theme_labels] = df_rlhf[tone_labels + emotion_labels + theme_labels].astype(int)\n",
    "df_rlhf.dtypes"
   ]
  },
  {
   "cell_type": "code",
   "execution_count": 20,
   "metadata": {},
   "outputs": [
    {
     "data": {
      "text/html": [
       "<div>\n",
       "<style scoped>\n",
       "    .dataframe tbody tr th:only-of-type {\n",
       "        vertical-align: middle;\n",
       "    }\n",
       "\n",
       "    .dataframe tbody tr th {\n",
       "        vertical-align: top;\n",
       "    }\n",
       "\n",
       "    .dataframe thead th {\n",
       "        text-align: right;\n",
       "    }\n",
       "</style>\n",
       "<table border=\"1\" class=\"dataframe\">\n",
       "  <thead>\n",
       "    <tr style=\"text-align: right;\">\n",
       "      <th></th>\n",
       "      <th>tone</th>\n",
       "      <th>emotion</th>\n",
       "      <th>theme</th>\n",
       "    </tr>\n",
       "  </thead>\n",
       "  <tbody>\n",
       "    <tr>\n",
       "      <th>count</th>\n",
       "      <td>150</td>\n",
       "      <td>150</td>\n",
       "      <td>150</td>\n",
       "    </tr>\n",
       "    <tr>\n",
       "      <th>unique</th>\n",
       "      <td>3</td>\n",
       "      <td>6</td>\n",
       "      <td>7</td>\n",
       "    </tr>\n",
       "    <tr>\n",
       "      <th>top</th>\n",
       "      <td>neutral</td>\n",
       "      <td>anger</td>\n",
       "      <td>asking a question</td>\n",
       "    </tr>\n",
       "    <tr>\n",
       "      <th>freq</th>\n",
       "      <td>99</td>\n",
       "      <td>55</td>\n",
       "      <td>55</td>\n",
       "    </tr>\n",
       "  </tbody>\n",
       "</table>\n",
       "</div>"
      ],
      "text/plain": [
       "           tone emotion              theme\n",
       "count       150     150                150\n",
       "unique        3       6                  7\n",
       "top     neutral   anger  asking a question\n",
       "freq         99      55                 55"
      ]
     },
     "execution_count": 20,
     "metadata": {},
     "output_type": "execute_result"
    }
   ],
   "source": [
    "df_rlhf.loc[:, ['tone', 'emotion', 'theme']].describe()"
   ]
  },
  {
   "cell_type": "code",
   "execution_count": 21,
   "metadata": {},
   "outputs": [],
   "source": [
    "rlhf_jsonl = 'data/comments_rlhf.jsonl'\n",
    "df_rlhf.to_json(rlhf_jsonl, orient=\"records\", lines=True)"
   ]
  },
  {
   "cell_type": "code",
   "execution_count": 22,
   "metadata": {},
   "outputs": [
    {
     "data": {
      "application/vnd.jupyter.widget-view+json": {
       "model_id": "8468d321e6e04f57ab1424fb729d6bea",
       "version_major": 2,
       "version_minor": 0
      },
      "text/plain": [
       "Downloading data files:   0%|          | 0/1 [00:00<?, ?it/s]"
      ]
     },
     "metadata": {},
     "output_type": "display_data"
    },
    {
     "data": {
      "application/vnd.jupyter.widget-view+json": {
       "model_id": "604e2e5fa3bd48d698c04a7152698c2b",
       "version_major": 2,
       "version_minor": 0
      },
      "text/plain": [
       "Extracting data files:   0%|          | 0/1 [00:00<?, ?it/s]"
      ]
     },
     "metadata": {},
     "output_type": "display_data"
    },
    {
     "data": {
      "application/vnd.jupyter.widget-view+json": {
       "model_id": "09927f42d6e44cf98dca0a982d6fd837",
       "version_major": 2,
       "version_minor": 0
      },
      "text/plain": [
       "Generating train split: 0 examples [00:00, ? examples/s]"
      ]
     },
     "metadata": {},
     "output_type": "display_data"
    },
    {
     "data": {
      "text/plain": [
       "DatasetDict({\n",
       "    train: Dataset({\n",
       "        features: ['id', 'createdAt', 'userId', 'userCreatedAt', 'classYear', 'universityId', 'country', 'universityName', 'parentId', 'questionId', 'comment', 'review', 'negative', 'neutral', 'positive', 'tone', 'sadness', 'joy', 'love', 'anger', 'fear', 'surprise', 'emotion', 'educational', 'giving feedback', 'asking a question', 'insulting', 'supporting', 'humour', 'frustration', 'theme'],\n",
       "        num_rows: 120\n",
       "    })\n",
       "    test: Dataset({\n",
       "        features: ['id', 'createdAt', 'userId', 'userCreatedAt', 'classYear', 'universityId', 'country', 'universityName', 'parentId', 'questionId', 'comment', 'review', 'negative', 'neutral', 'positive', 'tone', 'sadness', 'joy', 'love', 'anger', 'fear', 'surprise', 'emotion', 'educational', 'giving feedback', 'asking a question', 'insulting', 'supporting', 'humour', 'frustration', 'theme'],\n",
       "        num_rows: 15\n",
       "    })\n",
       "    validate: Dataset({\n",
       "        features: ['id', 'createdAt', 'userId', 'userCreatedAt', 'classYear', 'universityId', 'country', 'universityName', 'parentId', 'questionId', 'comment', 'review', 'negative', 'neutral', 'positive', 'tone', 'sadness', 'joy', 'love', 'anger', 'fear', 'surprise', 'emotion', 'educational', 'giving feedback', 'asking a question', 'insulting', 'supporting', 'humour', 'frustration', 'theme'],\n",
       "        num_rows: 15\n",
       "    })\n",
       "})"
      ]
     },
     "execution_count": 22,
     "metadata": {},
     "output_type": "execute_result"
    }
   ],
   "source": [
    "from datasets import load_dataset\n",
    "\n",
    "data_files = {\n",
    "    'train': rlhf_jsonl\n",
    "}\n",
    "\n",
    "ds = load_dataset(\"json\", data_files=data_files)\n",
    "ds2 = ds['train'].train_test_split(test_size=0.2)\n",
    "ds3 = ds2['test'].train_test_split(test_size=0.5)\n",
    "ds['train'] = ds2['train']\n",
    "ds['test'] = ds3['train']\n",
    "ds['validate'] = ds3['test']\n",
    "ds"
   ]
  },
  {
   "cell_type": "code",
   "execution_count": 23,
   "metadata": {},
   "outputs": [
    {
     "data": {
      "application/vnd.jupyter.widget-view+json": {
       "model_id": "b52ce4234eff4070ab2ab80ba3e6f09f",
       "version_major": 2,
       "version_minor": 0
      },
      "text/plain": [
       "Pushing dataset shards to the dataset hub:   0%|          | 0/1 [00:00<?, ?it/s]"
      ]
     },
     "metadata": {},
     "output_type": "display_data"
    },
    {
     "data": {
      "application/vnd.jupyter.widget-view+json": {
       "model_id": "dc87ff3548e84dd494eedb2cc8be8aab",
       "version_major": 2,
       "version_minor": 0
      },
      "text/plain": [
       "Creating parquet from Arrow format:   0%|          | 0/1 [00:00<?, ?ba/s]"
      ]
     },
     "metadata": {},
     "output_type": "display_data"
    },
    {
     "data": {
      "application/vnd.jupyter.widget-view+json": {
       "model_id": "c562e4bfce56487a946f819b5018d4ec",
       "version_major": 2,
       "version_minor": 0
      },
      "text/plain": [
       "Deleting unused files from dataset repository:   0%|          | 0/1 [00:00<?, ?it/s]"
      ]
     },
     "metadata": {},
     "output_type": "display_data"
    },
    {
     "data": {
      "application/vnd.jupyter.widget-view+json": {
       "model_id": "1edafde8b1704914a692e1b69463a529",
       "version_major": 2,
       "version_minor": 0
      },
      "text/plain": [
       "Pushing dataset shards to the dataset hub:   0%|          | 0/1 [00:00<?, ?it/s]"
      ]
     },
     "metadata": {},
     "output_type": "display_data"
    },
    {
     "data": {
      "application/vnd.jupyter.widget-view+json": {
       "model_id": "f3194681a47a40afacd6335ec76268c6",
       "version_major": 2,
       "version_minor": 0
      },
      "text/plain": [
       "Creating parquet from Arrow format:   0%|          | 0/1 [00:00<?, ?ba/s]"
      ]
     },
     "metadata": {},
     "output_type": "display_data"
    },
    {
     "data": {
      "application/vnd.jupyter.widget-view+json": {
       "model_id": "ab3856028ed2454d83e27bcb0d2111b6",
       "version_major": 2,
       "version_minor": 0
      },
      "text/plain": [
       "Deleting unused files from dataset repository:   0%|          | 0/1 [00:00<?, ?it/s]"
      ]
     },
     "metadata": {},
     "output_type": "display_data"
    },
    {
     "data": {
      "application/vnd.jupyter.widget-view+json": {
       "model_id": "1accc8ec5d8849108779f5742c1a1259",
       "version_major": 2,
       "version_minor": 0
      },
      "text/plain": [
       "Pushing dataset shards to the dataset hub:   0%|          | 0/1 [00:00<?, ?it/s]"
      ]
     },
     "metadata": {},
     "output_type": "display_data"
    },
    {
     "data": {
      "application/vnd.jupyter.widget-view+json": {
       "model_id": "6434323e12b345a798dc847c54fd92c1",
       "version_major": 2,
       "version_minor": 0
      },
      "text/plain": [
       "Creating parquet from Arrow format:   0%|          | 0/1 [00:00<?, ?ba/s]"
      ]
     },
     "metadata": {},
     "output_type": "display_data"
    },
    {
     "data": {
      "application/vnd.jupyter.widget-view+json": {
       "model_id": "90b1f17d8da7482e90eab093d331f85a",
       "version_major": 2,
       "version_minor": 0
      },
      "text/plain": [
       "Deleting unused files from dataset repository:   0%|          | 0/1 [00:00<?, ?it/s]"
      ]
     },
     "metadata": {},
     "output_type": "display_data"
    },
    {
     "data": {
      "application/vnd.jupyter.widget-view+json": {
       "model_id": "97af6a83b3894ed3854a32616bce5aad",
       "version_major": 2,
       "version_minor": 0
      },
      "text/plain": [
       "Downloading metadata:   0%|          | 0.00/1.85k [00:00<?, ?B/s]"
      ]
     },
     "metadata": {},
     "output_type": "display_data"
    }
   ],
   "source": [
    "ds.push_to_hub('quesmed/comment_sentiment', private=True)"
   ]
  }
 ],
 "metadata": {
  "kernelspec": {
   "display_name": "fusion_analysis-xH46poxW",
   "language": "python",
   "name": "python3"
  },
  "language_info": {
   "codemirror_mode": {
    "name": "ipython",
    "version": 3
   },
   "file_extension": ".py",
   "mimetype": "text/x-python",
   "name": "python",
   "nbconvert_exporter": "python",
   "pygments_lexer": "ipython3",
   "version": "3.11.4"
  },
  "orig_nbformat": 4
 },
 "nbformat": 4,
 "nbformat_minor": 2
}
