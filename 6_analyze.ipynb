{
 "cells": [
  {
   "cell_type": "code",
   "execution_count": 1,
   "metadata": {},
   "outputs": [],
   "source": [
    "import os\n",
    "import matplotlib.pyplot as plt\n",
    "import seaborn as sns\n",
    "from transformers import AutoModelForSequenceClassification, AutoTokenizer, AutoConfig\n",
    "import torch\n",
    "\n",
    "sns.set_theme()\n",
    "\n",
    "os.environ['TOKENIZERS_PARALLELISM'] = 'true'\n",
    "\n",
    "device = torch.device(\"mps\" if torch.backends.mps.is_available() else \"cpu\")\n",
    "\n",
    "\n",
    "def init_model(model_path: str):\n",
    "    tokenizer = AutoTokenizer.from_pretrained(model_path, use_fast=True)\n",
    "    config = AutoConfig.from_pretrained(model_path)\n",
    "    model = AutoModelForSequenceClassification.from_pretrained(model_path).to(device)\n",
    "\n",
    "    return (tokenizer, config, model)"
   ]
  },
  {
   "cell_type": "code",
   "execution_count": 2,
   "metadata": {},
   "outputs": [
    {
     "data": {
      "text/html": [
       "<div>\n",
       "<style scoped>\n",
       "    .dataframe tbody tr th:only-of-type {\n",
       "        vertical-align: middle;\n",
       "    }\n",
       "\n",
       "    .dataframe tbody tr th {\n",
       "        vertical-align: top;\n",
       "    }\n",
       "\n",
       "    .dataframe thead th {\n",
       "        text-align: right;\n",
       "    }\n",
       "</style>\n",
       "<table border=\"1\" class=\"dataframe\">\n",
       "  <thead>\n",
       "    <tr style=\"text-align: right;\">\n",
       "      <th></th>\n",
       "      <th>id</th>\n",
       "      <th>createdAt</th>\n",
       "      <th>userId</th>\n",
       "      <th>userCreatedAt</th>\n",
       "      <th>classYear</th>\n",
       "      <th>universityId</th>\n",
       "      <th>country</th>\n",
       "      <th>universityName</th>\n",
       "      <th>parentId</th>\n",
       "      <th>questionId</th>\n",
       "      <th>comment</th>\n",
       "      <th>review</th>\n",
       "      <th>chapter_explanation_update</th>\n",
       "      <th>question_update</th>\n",
       "      <th>question_explanation_update</th>\n",
       "      <th>qc_explanation_update</th>\n",
       "    </tr>\n",
       "  </thead>\n",
       "  <tbody>\n",
       "    <tr>\n",
       "      <th>3416</th>\n",
       "      <td>5202</td>\n",
       "      <td>2021-11-11 16:49:33.957000+00:00</td>\n",
       "      <td>9385</td>\n",
       "      <td>2021-05-30 08:35:38.831000+00:00</td>\n",
       "      <td>Year 4</td>\n",
       "      <td>2670</td>\n",
       "      <td>United Kingdom</td>\n",
       "      <td>University of Southampton</td>\n",
       "      <td>1145.0</td>\n",
       "      <td>2074</td>\n",
       "      <td>Haemophilus influenzae is a cause of acute epi...</td>\n",
       "      <td>False</td>\n",
       "      <td>None</td>\n",
       "      <td>None</td>\n",
       "      <td>None</td>\n",
       "      <td>None</td>\n",
       "    </tr>\n",
       "    <tr>\n",
       "      <th>14930</th>\n",
       "      <td>19521</td>\n",
       "      <td>2023-03-06 14:41:29.359434+00:00</td>\n",
       "      <td>13211</td>\n",
       "      <td>2021-10-19 06:15:15.537000+00:00</td>\n",
       "      <td>Year 5</td>\n",
       "      <td>2657</td>\n",
       "      <td>United Kingdom</td>\n",
       "      <td>University of Manchester</td>\n",
       "      <td>NaN</td>\n",
       "      <td>1436</td>\n",
       "      <td>weird q but easily answerable if you take your...</td>\n",
       "      <td>False</td>\n",
       "      <td>None</td>\n",
       "      <td>None</td>\n",
       "      <td>None</td>\n",
       "      <td>None</td>\n",
       "    </tr>\n",
       "    <tr>\n",
       "      <th>15896</th>\n",
       "      <td>20596</td>\n",
       "      <td>2023-03-22 13:15:26.672329+00:00</td>\n",
       "      <td>27328</td>\n",
       "      <td>2022-11-22 22:43:53.825878+00:00</td>\n",
       "      <td>Year 4</td>\n",
       "      <td>2639</td>\n",
       "      <td>United Kingdom</td>\n",
       "      <td>University of Edinburgh</td>\n",
       "      <td>NaN</td>\n",
       "      <td>8377</td>\n",
       "      <td>'Drowsy' is a bit of a loose term</td>\n",
       "      <td>False</td>\n",
       "      <td>None</td>\n",
       "      <td>None</td>\n",
       "      <td>None</td>\n",
       "      <td>None</td>\n",
       "    </tr>\n",
       "  </tbody>\n",
       "</table>\n",
       "</div>"
      ],
      "text/plain": [
       "          id                        createdAt  userId  \\\n",
       "3416    5202 2021-11-11 16:49:33.957000+00:00    9385   \n",
       "14930  19521 2023-03-06 14:41:29.359434+00:00   13211   \n",
       "15896  20596 2023-03-22 13:15:26.672329+00:00   27328   \n",
       "\n",
       "                         userCreatedAt classYear  universityId  \\\n",
       "3416  2021-05-30 08:35:38.831000+00:00    Year 4          2670   \n",
       "14930 2021-10-19 06:15:15.537000+00:00    Year 5          2657   \n",
       "15896 2022-11-22 22:43:53.825878+00:00    Year 4          2639   \n",
       "\n",
       "              country             universityName  parentId  questionId  \\\n",
       "3416   United Kingdom  University of Southampton    1145.0        2074   \n",
       "14930  United Kingdom   University of Manchester       NaN        1436   \n",
       "15896  United Kingdom    University of Edinburgh       NaN        8377   \n",
       "\n",
       "                                                 comment review  \\\n",
       "3416   Haemophilus influenzae is a cause of acute epi...  False   \n",
       "14930  weird q but easily answerable if you take your...  False   \n",
       "15896                  'Drowsy' is a bit of a loose term  False   \n",
       "\n",
       "      chapter_explanation_update question_update question_explanation_update  \\\n",
       "3416                        None            None                        None   \n",
       "14930                       None            None                        None   \n",
       "15896                       None            None                        None   \n",
       "\n",
       "      qc_explanation_update  \n",
       "3416                   None  \n",
       "14930                  None  \n",
       "15896                  None  "
      ]
     },
     "execution_count": 2,
     "metadata": {},
     "output_type": "execute_result"
    }
   ],
   "source": [
    "import pandas as pd\n",
    "\n",
    "file_path = \"data/1comments.h5\"\n",
    "df = pd.read_hdf(file_path, key='df')\n",
    "df.sample(3)"
   ]
  },
  {
   "cell_type": "code",
   "execution_count": 3,
   "metadata": {},
   "outputs": [],
   "source": [
    "from datasets import Dataset\n",
    "\n",
    "def dataloader(ds: Dataset):\n",
    "  for item in ds:\n",
    "    yield item['text']\n",
    "\n",
    "ds = Dataset.from_dict({'text': df['comment']})"
   ]
  },
  {
   "attachments": {},
   "cell_type": "markdown",
   "metadata": {},
   "source": [
    "# Tone analysis\n",
    "\n",
    "Checking the tone of submissions"
   ]
  },
  {
   "cell_type": "code",
   "execution_count": 4,
   "metadata": {},
   "outputs": [],
   "source": [
    "tone_ckpt = \"fine-tuning-final/tone\""
   ]
  },
  {
   "cell_type": "code",
   "execution_count": 5,
   "metadata": {},
   "outputs": [],
   "source": [
    "tone_tokenizer, tone_config, tone_model = init_model(tone_ckpt)\n"
   ]
  },
  {
   "cell_type": "code",
   "execution_count": 6,
   "metadata": {},
   "outputs": [
    {
     "data": {
      "text/plain": [
       "[{'label': 'neutral', 'score': 0.5718153119087219},\n",
       " {'label': 'negative', 'score': 0.40707287192344666},\n",
       " {'label': 'positive', 'score': 0.02111182175576687}]"
      ]
     },
     "execution_count": 6,
     "metadata": {},
     "output_type": "execute_result"
    }
   ],
   "source": [
    "from transformers import pipeline\n",
    "from tqdm import tqdm\n",
    "\n",
    "tone_pipe = pipeline(\"sentiment-analysis\", \n",
    "  model=tone_model, \n",
    "  device=device,\n",
    "  tokenizer=tone_tokenizer,\n",
    "  max_length=512, \n",
    "  truncation=True\n",
    ")\n",
    "\n",
    "tone_labels = ['neutral', 'negative', 'positive']\n",
    "\n",
    "tone_pipe('Cases of Covid are rising!', top_k=len(tone_labels), batch_size=64)"
   ]
  },
  {
   "cell_type": "code",
   "execution_count": 7,
   "metadata": {},
   "outputs": [
    {
     "name": "stderr",
     "output_type": "stream",
     "text": [
      "100%|██████████| 24912/24912 [02:47<00:00, 148.88it/s]\n"
     ]
    }
   ],
   "source": [
    "res_emotion = []\n",
    "for res in tqdm(tone_pipe(dataloader(ds), top_k=len(tone_labels), batch_size=64), total=ds.num_rows):\n",
    "  res_sorted = sorted(res, key=lambda x: x['label'])\n",
    "  res_emotion.append([x['score'] for x in res_sorted])\n",
    "\n",
    "df = df.join(pd.DataFrame(res_emotion, columns=tone_labels))"
   ]
  },
  {
   "cell_type": "code",
   "execution_count": 8,
   "metadata": {},
   "outputs": [],
   "source": [
    "df['tone'] = df[tone_labels].idxmax(axis=1)"
   ]
  },
  {
   "cell_type": "code",
   "execution_count": 10,
   "metadata": {},
   "outputs": [
    {
     "name": "stderr",
     "output_type": "stream",
     "text": [
      "/var/folders/lk/lhmn07j501l6rng06tjrl8cm0000gn/T/ipykernel_89440/182183184.py:1: PerformanceWarning: \n",
      "your performance may suffer as PyTables will pickle object types that it cannot\n",
      "map directly to c-types [inferred_type->mixed,key->block4_values] [items->Index(['classYear', 'country', 'universityName', 'comment', 'review',\n",
      "       'chapter_explanation_update', 'question_update',\n",
      "       'question_explanation_update', 'qc_explanation_update', 'tone'],\n",
      "      dtype='object')]\n",
      "\n",
      "  df.to_hdf('data/tuned/2comments.h5', key='df', mode='w')\n"
     ]
    }
   ],
   "source": [
    "df.to_hdf('data/tuned/2comments.h5', key='df', mode='w')\n",
    "# df = pd.read_hdf('data/tuned/2comments.h5', key='df')"
   ]
  },
  {
   "cell_type": "code",
   "execution_count": 11,
   "metadata": {},
   "outputs": [
    {
     "data": {
      "image/png": "[encoded data removed]",
      "text/plain": [
       "<Figure size 640x480 with 1 Axes>"
      ]
     },
     "metadata": {},
     "output_type": "display_data"
    }
   ],
   "source": [
    "fig, ax = plt.subplots()\n",
    "ax = df['tone'].value_counts().plot(kind='bar')\n",
    "plt.xticks(rotation=0, ha='center')\n",
    "plt.show()"
   ]
  },
  {
   "attachments": {},
   "cell_type": "markdown",
   "metadata": {},
   "source": [
    "# Emotion Analysis\n",
    "\n",
    "Checking the emotion of submissions"
   ]
  },
  {
   "cell_type": "code",
   "execution_count": 12,
   "metadata": {},
   "outputs": [],
   "source": [
    "emotion_chkp = \"fine-tuning-final/emotion\"\n",
    "emotion_tokenizer, emotion_config, emotion_model = init_model(emotion_chkp)\n"
   ]
  },
  {
   "cell_type": "code",
   "execution_count": 13,
   "metadata": {},
   "outputs": [
    {
     "name": "stderr",
     "output_type": "stream",
     "text": [
      "Failed to determine 'entailment' label id from the label2id mapping in the model config. Setting to -1. Define a descriptive label2id mapping in the model config to ensure correct outputs.\n"
     ]
    },
    {
     "data": {
      "text/plain": [
       "{'sequence': 'Cases of Covid are rising!',\n",
       " 'labels': ['surprise', 'joy', 'love', 'sadness', 'anger', 'fear'],\n",
       " 'scores': [0.2170352190732956,\n",
       "  0.17403945326805115,\n",
       "  0.1592649221420288,\n",
       "  0.15278464555740356,\n",
       "  0.15202359855175018,\n",
       "  0.1448521465063095]}"
      ]
     },
     "execution_count": 13,
     "metadata": {},
     "output_type": "execute_result"
    }
   ],
   "source": [
    "emotion_pipe = pipeline(\"zero-shot-classification\", \n",
    "  model=emotion_model,\n",
    "  tokenizer=emotion_tokenizer,\n",
    "  device=device,\n",
    "  max_length=512,\n",
    "  truncation=True\n",
    ")\n",
    "\n",
    "emotion_labels = ['sadness', 'joy', 'love', 'anger', 'fear', 'surprise']\n",
    "\n",
    "emotion_pipe('Cases of Covid are rising!', \n",
    "             top_k=len(emotion_labels), \n",
    "             candidate_labels=emotion_labels\n",
    "             )"
   ]
  },
  {
   "cell_type": "code",
   "execution_count": 14,
   "metadata": {},
   "outputs": [
    {
     "name": "stderr",
     "output_type": "stream",
     "text": [
      "100%|██████████| 24912/24912 [05:04<00:00, 81.84it/s] \n"
     ]
    }
   ],
   "source": [
    "res_emotion = []\n",
    "for res in tqdm(emotion_pipe(dataloader(ds), top_k=len(emotion_labels), batch_size=64, candidate_labels=emotion_labels), total=ds.num_rows):\n",
    "  res_list = []\n",
    "  for label, score in zip(res['labels'], res['scores']):\n",
    "    res_list.append({'label': label, 'score': score})\n",
    "  res_sorted = sorted(res_list, key=lambda x: x['label'])\n",
    "  res_emotion.append([x['score'] for x in res_sorted])\n",
    "\n",
    "df = df.join(pd.DataFrame(res_emotion, columns=emotion_labels))"
   ]
  },
  {
   "cell_type": "code",
   "execution_count": 15,
   "metadata": {},
   "outputs": [],
   "source": [
    "df['emotion'] = df[emotion_labels].idxmax(axis=1)"
   ]
  },
  {
   "cell_type": "code",
   "execution_count": 16,
   "metadata": {},
   "outputs": [
    {
     "name": "stderr",
     "output_type": "stream",
     "text": [
      "/var/folders/lk/lhmn07j501l6rng06tjrl8cm0000gn/T/ipykernel_89440/215985439.py:1: PerformanceWarning: \n",
      "your performance may suffer as PyTables will pickle object types that it cannot\n",
      "map directly to c-types [inferred_type->mixed,key->block4_values] [items->Index(['classYear', 'country', 'universityName', 'comment', 'review',\n",
      "       'chapter_explanation_update', 'question_update',\n",
      "       'question_explanation_update', 'qc_explanation_update', 'tone',\n",
      "       'emotion'],\n",
      "      dtype='object')]\n",
      "\n",
      "  df.to_hdf('data/tuned/3comments.h5', key='df', mode='w')\n"
     ]
    }
   ],
   "source": [
    "df.to_hdf('data/tuned/3comments.h5', key='df', mode='w')\n",
    "# df = pd.read_hdf('data/tuned/3comments.h5', key='df')"
   ]
  },
  {
   "cell_type": "code",
   "execution_count": 17,
   "metadata": {},
   "outputs": [
    {
     "data": {
      "image/png": "[encoded data removed]",
      "text/plain": [
       "<Figure size 640x480 with 1 Axes>"
      ]
     },
     "metadata": {},
     "output_type": "display_data"
    }
   ],
   "source": [
    "fig, ax = plt.subplots()\n",
    "ax = df['emotion'].value_counts().plot(kind='bar')\n",
    "\n",
    "plt.show()"
   ]
  },
  {
   "cell_type": "code",
   "execution_count": 18,
   "metadata": {},
   "outputs": [
    {
     "data": {
      "text/html": [
       "<div>\n",
       "<style scoped>\n",
       "    .dataframe tbody tr th:only-of-type {\n",
       "        vertical-align: middle;\n",
       "    }\n",
       "\n",
       "    .dataframe tbody tr th {\n",
       "        vertical-align: top;\n",
       "    }\n",
       "\n",
       "    .dataframe thead th {\n",
       "        text-align: right;\n",
       "    }\n",
       "</style>\n",
       "<table border=\"1\" class=\"dataframe\">\n",
       "  <thead>\n",
       "    <tr style=\"text-align: right;\">\n",
       "      <th></th>\n",
       "      <th>id</th>\n",
       "      <th>createdAt</th>\n",
       "      <th>userId</th>\n",
       "      <th>userCreatedAt</th>\n",
       "      <th>classYear</th>\n",
       "      <th>universityId</th>\n",
       "      <th>country</th>\n",
       "      <th>universityName</th>\n",
       "      <th>parentId</th>\n",
       "      <th>questionId</th>\n",
       "      <th>...</th>\n",
       "      <th>negative</th>\n",
       "      <th>positive</th>\n",
       "      <th>tone</th>\n",
       "      <th>sadness</th>\n",
       "      <th>joy</th>\n",
       "      <th>love</th>\n",
       "      <th>anger</th>\n",
       "      <th>fear</th>\n",
       "      <th>surprise</th>\n",
       "      <th>emotion</th>\n",
       "    </tr>\n",
       "  </thead>\n",
       "  <tbody>\n",
       "    <tr>\n",
       "      <th>0</th>\n",
       "      <td>2</td>\n",
       "      <td>2021-03-25 11:22:56.133000+00:00</td>\n",
       "      <td>1195</td>\n",
       "      <td>2019-03-18 18:41:10.891000+00:00</td>\n",
       "      <td>Year 4</td>\n",
       "      <td>2620</td>\n",
       "      <td>United Kingdom</td>\n",
       "      <td>University College London (UCL)</td>\n",
       "      <td>NaN</td>\n",
       "      <td>1170</td>\n",
       "      <td>...</td>\n",
       "      <td>0.143679</td>\n",
       "      <td>0.800420</td>\n",
       "      <td>positive</td>\n",
       "      <td>0.160237</td>\n",
       "      <td>0.149210</td>\n",
       "      <td>0.170455</td>\n",
       "      <td>0.148032</td>\n",
       "      <td>0.154789</td>\n",
       "      <td>0.217277</td>\n",
       "      <td>surprise</td>\n",
       "    </tr>\n",
       "    <tr>\n",
       "      <th>1</th>\n",
       "      <td>4</td>\n",
       "      <td>2021-03-25 12:14:48.834000+00:00</td>\n",
       "      <td>1542</td>\n",
       "      <td>2019-06-01 20:00:49.151000+00:00</td>\n",
       "      <td>Year 5</td>\n",
       "      <td>2620</td>\n",
       "      <td>United Kingdom</td>\n",
       "      <td>University College London (UCL)</td>\n",
       "      <td>NaN</td>\n",
       "      <td>1090</td>\n",
       "      <td>...</td>\n",
       "      <td>0.808160</td>\n",
       "      <td>0.015522</td>\n",
       "      <td>negative</td>\n",
       "      <td>0.155475</td>\n",
       "      <td>0.154379</td>\n",
       "      <td>0.159927</td>\n",
       "      <td>0.155009</td>\n",
       "      <td>0.159747</td>\n",
       "      <td>0.215463</td>\n",
       "      <td>surprise</td>\n",
       "    </tr>\n",
       "    <tr>\n",
       "      <th>2</th>\n",
       "      <td>5</td>\n",
       "      <td>2021-03-25 12:17:29.904000+00:00</td>\n",
       "      <td>1542</td>\n",
       "      <td>2019-06-01 20:00:49.151000+00:00</td>\n",
       "      <td>Year 5</td>\n",
       "      <td>2620</td>\n",
       "      <td>United Kingdom</td>\n",
       "      <td>University College London (UCL)</td>\n",
       "      <td>NaN</td>\n",
       "      <td>2603</td>\n",
       "      <td>...</td>\n",
       "      <td>0.906133</td>\n",
       "      <td>0.015373</td>\n",
       "      <td>negative</td>\n",
       "      <td>0.147198</td>\n",
       "      <td>0.149922</td>\n",
       "      <td>0.168501</td>\n",
       "      <td>0.160598</td>\n",
       "      <td>0.158575</td>\n",
       "      <td>0.215206</td>\n",
       "      <td>surprise</td>\n",
       "    </tr>\n",
       "    <tr>\n",
       "      <th>3</th>\n",
       "      <td>6</td>\n",
       "      <td>2021-03-25 12:17:57.305000+00:00</td>\n",
       "      <td>1542</td>\n",
       "      <td>2019-06-01 20:00:49.151000+00:00</td>\n",
       "      <td>Year 5</td>\n",
       "      <td>2620</td>\n",
       "      <td>United Kingdom</td>\n",
       "      <td>University College London (UCL)</td>\n",
       "      <td>NaN</td>\n",
       "      <td>2603</td>\n",
       "      <td>...</td>\n",
       "      <td>0.864062</td>\n",
       "      <td>0.020754</td>\n",
       "      <td>negative</td>\n",
       "      <td>0.154161</td>\n",
       "      <td>0.154189</td>\n",
       "      <td>0.169797</td>\n",
       "      <td>0.157774</td>\n",
       "      <td>0.154584</td>\n",
       "      <td>0.209495</td>\n",
       "      <td>surprise</td>\n",
       "    </tr>\n",
       "    <tr>\n",
       "      <th>4</th>\n",
       "      <td>7</td>\n",
       "      <td>2021-03-25 12:24:38.100000+00:00</td>\n",
       "      <td>5153</td>\n",
       "      <td>2021-03-13 09:38:17.793000+00:00</td>\n",
       "      <td>Year 5</td>\n",
       "      <td>9364</td>\n",
       "      <td>United Kingdom</td>\n",
       "      <td>Barts and The London School of Medicine and De...</td>\n",
       "      <td>NaN</td>\n",
       "      <td>1480</td>\n",
       "      <td>...</td>\n",
       "      <td>0.852484</td>\n",
       "      <td>0.017841</td>\n",
       "      <td>negative</td>\n",
       "      <td>0.158350</td>\n",
       "      <td>0.155749</td>\n",
       "      <td>0.172158</td>\n",
       "      <td>0.153890</td>\n",
       "      <td>0.157563</td>\n",
       "      <td>0.202291</td>\n",
       "      <td>surprise</td>\n",
       "    </tr>\n",
       "  </tbody>\n",
       "</table>\n",
       "<p>5 rows × 27 columns</p>\n",
       "</div>"
      ],
      "text/plain": [
       "   id                        createdAt  userId  \\\n",
       "0   2 2021-03-25 11:22:56.133000+00:00    1195   \n",
       "1   4 2021-03-25 12:14:48.834000+00:00    1542   \n",
       "2   5 2021-03-25 12:17:29.904000+00:00    1542   \n",
       "3   6 2021-03-25 12:17:57.305000+00:00    1542   \n",
       "4   7 2021-03-25 12:24:38.100000+00:00    5153   \n",
       "\n",
       "                     userCreatedAt classYear  universityId         country  \\\n",
       "0 2019-03-18 18:41:10.891000+00:00    Year 4          2620  United Kingdom   \n",
       "1 2019-06-01 20:00:49.151000+00:00    Year 5          2620  United Kingdom   \n",
       "2 2019-06-01 20:00:49.151000+00:00    Year 5          2620  United Kingdom   \n",
       "3 2019-06-01 20:00:49.151000+00:00    Year 5          2620  United Kingdom   \n",
       "4 2021-03-13 09:38:17.793000+00:00    Year 5          9364  United Kingdom   \n",
       "\n",
       "                                      universityName  parentId  questionId  \\\n",
       "0                    University College London (UCL)       NaN        1170   \n",
       "1                    University College London (UCL)       NaN        1090   \n",
       "2                    University College London (UCL)       NaN        2603   \n",
       "3                    University College London (UCL)       NaN        2603   \n",
       "4  Barts and The London School of Medicine and De...       NaN        1480   \n",
       "\n",
       "   ...  negative  positive      tone   sadness       joy      love     anger  \\\n",
       "0  ...  0.143679  0.800420  positive  0.160237  0.149210  0.170455  0.148032   \n",
       "1  ...  0.808160  0.015522  negative  0.155475  0.154379  0.159927  0.155009   \n",
       "2  ...  0.906133  0.015373  negative  0.147198  0.149922  0.168501  0.160598   \n",
       "3  ...  0.864062  0.020754  negative  0.154161  0.154189  0.169797  0.157774   \n",
       "4  ...  0.852484  0.017841  negative  0.158350  0.155749  0.172158  0.153890   \n",
       "\n",
       "       fear  surprise   emotion  \n",
       "0  0.154789  0.217277  surprise  \n",
       "1  0.159747  0.215463  surprise  \n",
       "2  0.158575  0.215206  surprise  \n",
       "3  0.154584  0.209495  surprise  \n",
       "4  0.157563  0.202291  surprise  \n",
       "\n",
       "[5 rows x 27 columns]"
      ]
     },
     "execution_count": 18,
     "metadata": {},
     "output_type": "execute_result"
    }
   ],
   "source": [
    "df.head()"
   ]
  },
  {
   "attachments": {},
   "cell_type": "markdown",
   "metadata": {},
   "source": [
    "# Zero-shot classification\n",
    "\n",
    "Classification of submissions based on certain categories"
   ]
  },
  {
   "cell_type": "code",
   "execution_count": 58,
   "metadata": {},
   "outputs": [],
   "source": []
  },
  {
   "cell_type": "code",
   "execution_count": 64,
   "metadata": {},
   "outputs": [
    {
     "name": "stderr",
     "output_type": "stream",
     "text": [
      "Some weights of BartForSequenceClassification were not initialized from the model checkpoint at facebook/bart-large-mnli and are newly initialized because the shapes did not match:\n",
      "- classification_head.out_proj.bias: found shape torch.Size([3]) in the checkpoint and torch.Size([5]) in the model instantiated\n",
      "- classification_head.out_proj.weight: found shape torch.Size([3, 1024]) in the checkpoint and torch.Size([5, 1024]) in the model instantiated\n",
      "You should probably TRAIN this model on a down-stream task to be able to use it for predictions and inference.\n",
      "Failed to determine 'entailment' label id from the label2id mapping in the model config. Setting to -1. Define a descriptive label2id mapping in the model config to ensure correct outputs.\n"
     ]
    },
    {
     "data": {
      "text/plain": [
       "{'educational': 0.2142215371131897,\n",
       " 'giving feedback': 0.1849270462989807,\n",
       " 'asking a question': 0.27699366211891174,\n",
       " 'insulting': 0.16431444883346558,\n",
       " 'supporting': 0.15954318642616272}"
      ]
     },
     "execution_count": 64,
     "metadata": {},
     "output_type": "execute_result"
    }
   ],
   "source": [
    "from transformers import AutoModelForSequenceClassification\n",
    "\n",
    "theme_chkp = \"facebook/bart-large-mnli\"\n",
    "theme_tokenizer, _, _ = init_model(theme_chkp)\n",
    "\n",
    "theme_labels = ['educational', 'giving feedback', 'asking a question', 'insulting', 'supporting']\n",
    "\n",
    "id2label = {i: k for i, k in enumerate(theme_labels)}\n",
    "label2id = {k: i for i, k in enumerate(theme_labels)}\n",
    "\n",
    "theme_model = AutoModelForSequenceClassification.from_pretrained(theme_chkp,\n",
    "  num_labels=len(theme_labels),\n",
    "  id2label=id2label,\n",
    "  label2id=label2id,\n",
    "  ignore_mismatched_sizes=True\n",
    ")\n",
    "\n",
    "theme_pipe = pipeline(\"zero-shot-classification\", \n",
    "  model=theme_model,\n",
    "  tokenizer=theme_tokenizer,\n",
    "  device=device,\n",
    "  max_length=512,\n",
    "  truncation=True\n",
    ")\n",
    "\n",
    "def theme_analysis(text: str, multi_label=False):\n",
    "  res = theme_pipe(text, theme_labels, multi_label=multi_label)\n",
    "\n",
    "  output = {k: 0.0 for k in theme_labels}\n",
    "\n",
    "  for k, score in zip(res['labels'], res['scores']):\n",
    "      output[k] = score\n",
    "  \n",
    "  return output\n",
    "\n",
    "theme_analysis(\"Covid cases are increasing fast!\")"
   ]
  },
  {
   "cell_type": "code",
   "execution_count": 40,
   "metadata": {},
   "outputs": [],
   "source": [
    "for k in theme_labels:\n",
    "    df[k] = 0.0"
   ]
  },
  {
   "cell_type": "code",
   "execution_count": 41,
   "metadata": {},
   "outputs": [
    {
     "name": "stderr",
     "output_type": "stream",
     "text": [
      "100%|██████████| 22514/22514 [5:54:48<00:00,  1.06it/s]    \n"
     ]
    }
   ],
   "source": [
    "for id in tqdm(df.index):\n",
    "    selftext = df.at[id, 'comment']\n",
    "    if len(selftext) == 0:\n",
    "        continue\n",
    "    output = theme_analysis(selftext)\n",
    "    for k in theme_labels:\n",
    "        df.at[id, k] = output[k]"
   ]
  },
  {
   "cell_type": "code",
   "execution_count": 42,
   "metadata": {},
   "outputs": [],
   "source": [
    "df['theme'] = df[theme_labels].idxmax(axis=1)"
   ]
  },
  {
   "cell_type": "code",
   "execution_count": 65,
   "metadata": {},
   "outputs": [],
   "source": [
    "df.to_hdf('data/4comments.h5', key='df', mode='w')\n",
    "# df = pd.read_hdf('data/4comments.h5', key='df')"
   ]
  },
  {
   "cell_type": "code",
   "execution_count": 66,
   "metadata": {},
   "outputs": [
    {
     "data": {
      "image/png": "[encoded data removed]",
      "text/plain": [
       "<Figure size 640x480 with 1 Axes>"
      ]
     },
     "metadata": {},
     "output_type": "display_data"
    }
   ],
   "source": [
    "fig, ax = plt.subplots()\n",
    "ax = df['theme'].value_counts().plot(kind='bar')\n",
    "\n",
    "plt.show()"
   ]
  },
  {
   "cell_type": "code",
   "execution_count": null,
   "metadata": {},
   "outputs": [],
   "source": []
  }
 ],
 "metadata": {
  "kernelspec": {
   "display_name": "fusion_analysis-xH46poxW",
   "language": "python",
   "name": "python3"
  },
  "language_info": {
   "codemirror_mode": {
    "name": "ipython",
    "version": 3
   },
   "file_extension": ".py",
   "mimetype": "text/x-python",
   "name": "python",
   "nbconvert_exporter": "python",
   "pygments_lexer": "ipython3",
   "version": "3.11.4"
  },
  "orig_nbformat": 4
 },
 "nbformat": 4,
 "nbformat_minor": 2
}
